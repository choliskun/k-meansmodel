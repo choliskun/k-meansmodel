{
 "cells": [
  {
   "cell_type": "code",
   "execution_count": 1,
   "id": "902b0032-f7f8-461f-b150-7f9691d8ade4",
   "metadata": {},
   "outputs": [],
   "source": [
    "import numpy as np\n",
    "import pandas as pd \n",
    "import matplotlib.pyplot as plt\n",
    "import os\n",
    "os.environ[\"OMP_NUM_THREADS\"] = '1'\n",
    "import warnings\n",
    "warnings.filterwarnings('ignore')\n",
    "%matplotlib inline"
   ]
  },
  {
   "cell_type": "code",
   "execution_count": 2,
   "id": "3b713c86-1979-4e5a-ac3b-e9c3a33ec0c3",
   "metadata": {},
   "outputs": [],
   "source": [
    "df = pd.read_csv(\"TOFRevisionFinal.csv\", encoding='latin-1')"
   ]
  },
  {
   "cell_type": "code",
   "execution_count": 3,
   "id": "930a20f6-b6b3-482d-9575-c9f6914672d7",
   "metadata": {},
   "outputs": [
    {
     "data": {
      "text/html": [
       "<div>\n",
       "<style scoped>\n",
       "    .dataframe tbody tr th:only-of-type {\n",
       "        vertical-align: middle;\n",
       "    }\n",
       "\n",
       "    .dataframe tbody tr th {\n",
       "        vertical-align: top;\n",
       "    }\n",
       "\n",
       "    .dataframe thead th {\n",
       "        text-align: right;\n",
       "    }\n",
       "</style>\n",
       "<table border=\"1\" class=\"dataframe\">\n",
       "  <thead>\n",
       "    <tr style=\"text-align: right;\">\n",
       "      <th></th>\n",
       "      <th>Server Region</th>\n",
       "      <th>Account</th>\n",
       "      <th>Rules Violation</th>\n",
       "      <th>Unnamed: 3</th>\n",
       "      <th>Spending Score</th>\n",
       "    </tr>\n",
       "  </thead>\n",
       "  <tbody>\n",
       "    <tr>\n",
       "      <th>0</th>\n",
       "      <td>Asia-Pacific</td>\n",
       "      <td>P**ani</td>\n",
       "      <td>Illegal resource obtainment</td>\n",
       "      <td>NaN</td>\n",
       "      <td>3</td>\n",
       "    </tr>\n",
       "    <tr>\n",
       "      <th>1</th>\n",
       "      <td>Europe</td>\n",
       "      <td>V**ERA73</td>\n",
       "      <td>Illegal resource obtainment</td>\n",
       "      <td>NaN</td>\n",
       "      <td>1</td>\n",
       "    </tr>\n",
       "    <tr>\n",
       "      <th>2</th>\n",
       "      <td>Southeast Asia</td>\n",
       "      <td>r**okooo</td>\n",
       "      <td>Illegal resource obtainment</td>\n",
       "      <td>NaN</td>\n",
       "      <td>1</td>\n",
       "    </tr>\n",
       "    <tr>\n",
       "      <th>3</th>\n",
       "      <td>Southeast Asia</td>\n",
       "      <td>B**gBongUrMom</td>\n",
       "      <td>Illegal resource obtainment &amp; Cheating on Bygo...</td>\n",
       "      <td>NaN</td>\n",
       "      <td>3</td>\n",
       "    </tr>\n",
       "    <tr>\n",
       "      <th>4</th>\n",
       "      <td>South America</td>\n",
       "      <td>N**ERLEND</td>\n",
       "      <td>Cheating on Bygone Phantasm</td>\n",
       "      <td>NaN</td>\n",
       "      <td>1</td>\n",
       "    </tr>\n",
       "    <tr>\n",
       "      <th>...</th>\n",
       "      <td>...</td>\n",
       "      <td>...</td>\n",
       "      <td>...</td>\n",
       "      <td>...</td>\n",
       "      <td>...</td>\n",
       "    </tr>\n",
       "    <tr>\n",
       "      <th>244</th>\n",
       "      <td>Europe</td>\n",
       "      <td>M**archys</td>\n",
       "      <td>Illegal resource obtainment</td>\n",
       "      <td>NaN</td>\n",
       "      <td>2</td>\n",
       "    </tr>\n",
       "    <tr>\n",
       "      <th>245</th>\n",
       "      <td>Europe</td>\n",
       "      <td>H**ang</td>\n",
       "      <td>Illegal resource obtainment</td>\n",
       "      <td>NaN</td>\n",
       "      <td>1</td>\n",
       "    </tr>\n",
       "    <tr>\n",
       "      <th>246</th>\n",
       "      <td>Southeast Asia</td>\n",
       "      <td>H**terfang</td>\n",
       "      <td>Illegal resource obtainment</td>\n",
       "      <td>NaN</td>\n",
       "      <td>3</td>\n",
       "    </tr>\n",
       "    <tr>\n",
       "      <th>247</th>\n",
       "      <td>Asia-Pacific</td>\n",
       "      <td>t**perry7w7</td>\n",
       "      <td>Illegal resource obtainment</td>\n",
       "      <td>NaN</td>\n",
       "      <td>3</td>\n",
       "    </tr>\n",
       "    <tr>\n",
       "      <th>248</th>\n",
       "      <td>Europe</td>\n",
       "      <td>s**rorororo</td>\n",
       "      <td>Illegal resource obtainment</td>\n",
       "      <td>NaN</td>\n",
       "      <td>3</td>\n",
       "    </tr>\n",
       "  </tbody>\n",
       "</table>\n",
       "<p>249 rows × 5 columns</p>\n",
       "</div>"
      ],
      "text/plain": [
       "      Server Region        Account  \\\n",
       "0      Asia-Pacific         P**ani   \n",
       "1            Europe       V**ERA73   \n",
       "2    Southeast Asia       r**okooo   \n",
       "3    Southeast Asia  B**gBongUrMom   \n",
       "4     South America      N**ERLEND   \n",
       "..              ...            ...   \n",
       "244          Europe      M**archys   \n",
       "245          Europe         H**ang   \n",
       "246  Southeast Asia     H**terfang   \n",
       "247    Asia-Pacific    t**perry7w7   \n",
       "248          Europe    s**rorororo   \n",
       "\n",
       "                                       Rules Violation  Unnamed: 3  \\\n",
       "0                          Illegal resource obtainment         NaN   \n",
       "1                          Illegal resource obtainment         NaN   \n",
       "2                          Illegal resource obtainment         NaN   \n",
       "3    Illegal resource obtainment & Cheating on Bygo...         NaN   \n",
       "4                          Cheating on Bygone Phantasm         NaN   \n",
       "..                                                 ...         ...   \n",
       "244                        Illegal resource obtainment         NaN   \n",
       "245                        Illegal resource obtainment         NaN   \n",
       "246                        Illegal resource obtainment         NaN   \n",
       "247                        Illegal resource obtainment         NaN   \n",
       "248                        Illegal resource obtainment         NaN   \n",
       "\n",
       "     Spending Score  \n",
       "0                 3  \n",
       "1                 1  \n",
       "2                 1  \n",
       "3                 3  \n",
       "4                 1  \n",
       "..              ...  \n",
       "244               2  \n",
       "245               1  \n",
       "246               3  \n",
       "247               3  \n",
       "248               3  \n",
       "\n",
       "[249 rows x 5 columns]"
      ]
     },
     "execution_count": 3,
     "metadata": {},
     "output_type": "execute_result"
    }
   ],
   "source": [
    "df"
   ]
  },
  {
   "cell_type": "code",
   "execution_count": 4,
   "id": "ab029be1-3c1f-404a-816e-b144c260378d",
   "metadata": {},
   "outputs": [
    {
     "data": {
      "text/plain": [
       "Southeast Asia    95\n",
       "Europe            80\n",
       "North America     35\n",
       "Asia-Pacific      31\n",
       "South America      8\n",
       "Name: Server Region, dtype: int64"
      ]
     },
     "execution_count": 4,
     "metadata": {},
     "output_type": "execute_result"
    }
   ],
   "source": [
    "df['Server Region'].value_counts()"
   ]
  },
  {
   "cell_type": "code",
   "execution_count": 5,
   "id": "4209623e-959f-4c87-9961-729037843dc2",
   "metadata": {},
   "outputs": [
    {
     "data": {
      "text/plain": [
       "Illegal resource obtainment                                  228\n",
       "Cheating on Bygone Phantasm                                   15\n",
       "Illegal resource obtainment & Cheating on Bygone Phantasm      6\n",
       "Name: Rules Violation, dtype: int64"
      ]
     },
     "execution_count": 5,
     "metadata": {},
     "output_type": "execute_result"
    }
   ],
   "source": [
    "df['Rules Violation'].value_counts()"
   ]
  },
  {
   "cell_type": "code",
   "execution_count": 6,
   "id": "9195ae78-d8ef-4e54-a700-bdcfe2197189",
   "metadata": {},
   "outputs": [],
   "source": [
    "df.drop('Account', axis=1, inplace = True)"
   ]
  },
  {
   "cell_type": "code",
   "execution_count": 7,
   "id": "11d0b6f9-c8a0-4121-9c08-72eb5fdde330",
   "metadata": {},
   "outputs": [],
   "source": [
    "df.drop('Unnamed: 3', axis=1, inplace = True)"
   ]
  },
  {
   "cell_type": "code",
   "execution_count": 8,
   "id": "11dc27df-d043-42f8-b883-431f1b27247c",
   "metadata": {},
   "outputs": [],
   "source": [
    "df.dropna(inplace = True)"
   ]
  },
  {
   "cell_type": "code",
   "execution_count": 9,
   "id": "334181ec-2737-43ea-8aee-8db2f477e6e0",
   "metadata": {},
   "outputs": [
    {
     "data": {
      "text/html": [
       "<div>\n",
       "<style scoped>\n",
       "    .dataframe tbody tr th:only-of-type {\n",
       "        vertical-align: middle;\n",
       "    }\n",
       "\n",
       "    .dataframe tbody tr th {\n",
       "        vertical-align: top;\n",
       "    }\n",
       "\n",
       "    .dataframe thead th {\n",
       "        text-align: right;\n",
       "    }\n",
       "</style>\n",
       "<table border=\"1\" class=\"dataframe\">\n",
       "  <thead>\n",
       "    <tr style=\"text-align: right;\">\n",
       "      <th></th>\n",
       "      <th>Server Region</th>\n",
       "      <th>Rules Violation</th>\n",
       "      <th>Spending Score</th>\n",
       "    </tr>\n",
       "  </thead>\n",
       "  <tbody>\n",
       "    <tr>\n",
       "      <th>0</th>\n",
       "      <td>Asia-Pacific</td>\n",
       "      <td>Illegal resource obtainment</td>\n",
       "      <td>3</td>\n",
       "    </tr>\n",
       "    <tr>\n",
       "      <th>1</th>\n",
       "      <td>Europe</td>\n",
       "      <td>Illegal resource obtainment</td>\n",
       "      <td>1</td>\n",
       "    </tr>\n",
       "    <tr>\n",
       "      <th>2</th>\n",
       "      <td>Southeast Asia</td>\n",
       "      <td>Illegal resource obtainment</td>\n",
       "      <td>1</td>\n",
       "    </tr>\n",
       "    <tr>\n",
       "      <th>3</th>\n",
       "      <td>Southeast Asia</td>\n",
       "      <td>Illegal resource obtainment &amp; Cheating on Bygo...</td>\n",
       "      <td>3</td>\n",
       "    </tr>\n",
       "    <tr>\n",
       "      <th>4</th>\n",
       "      <td>South America</td>\n",
       "      <td>Cheating on Bygone Phantasm</td>\n",
       "      <td>1</td>\n",
       "    </tr>\n",
       "    <tr>\n",
       "      <th>...</th>\n",
       "      <td>...</td>\n",
       "      <td>...</td>\n",
       "      <td>...</td>\n",
       "    </tr>\n",
       "    <tr>\n",
       "      <th>244</th>\n",
       "      <td>Europe</td>\n",
       "      <td>Illegal resource obtainment</td>\n",
       "      <td>2</td>\n",
       "    </tr>\n",
       "    <tr>\n",
       "      <th>245</th>\n",
       "      <td>Europe</td>\n",
       "      <td>Illegal resource obtainment</td>\n",
       "      <td>1</td>\n",
       "    </tr>\n",
       "    <tr>\n",
       "      <th>246</th>\n",
       "      <td>Southeast Asia</td>\n",
       "      <td>Illegal resource obtainment</td>\n",
       "      <td>3</td>\n",
       "    </tr>\n",
       "    <tr>\n",
       "      <th>247</th>\n",
       "      <td>Asia-Pacific</td>\n",
       "      <td>Illegal resource obtainment</td>\n",
       "      <td>3</td>\n",
       "    </tr>\n",
       "    <tr>\n",
       "      <th>248</th>\n",
       "      <td>Europe</td>\n",
       "      <td>Illegal resource obtainment</td>\n",
       "      <td>3</td>\n",
       "    </tr>\n",
       "  </tbody>\n",
       "</table>\n",
       "<p>249 rows × 3 columns</p>\n",
       "</div>"
      ],
      "text/plain": [
       "      Server Region                                    Rules Violation  \\\n",
       "0      Asia-Pacific                        Illegal resource obtainment   \n",
       "1            Europe                        Illegal resource obtainment   \n",
       "2    Southeast Asia                        Illegal resource obtainment   \n",
       "3    Southeast Asia  Illegal resource obtainment & Cheating on Bygo...   \n",
       "4     South America                        Cheating on Bygone Phantasm   \n",
       "..              ...                                                ...   \n",
       "244          Europe                        Illegal resource obtainment   \n",
       "245          Europe                        Illegal resource obtainment   \n",
       "246  Southeast Asia                        Illegal resource obtainment   \n",
       "247    Asia-Pacific                        Illegal resource obtainment   \n",
       "248          Europe                        Illegal resource obtainment   \n",
       "\n",
       "     Spending Score  \n",
       "0                 3  \n",
       "1                 1  \n",
       "2                 1  \n",
       "3                 3  \n",
       "4                 1  \n",
       "..              ...  \n",
       "244               2  \n",
       "245               1  \n",
       "246               3  \n",
       "247               3  \n",
       "248               3  \n",
       "\n",
       "[249 rows x 3 columns]"
      ]
     },
     "execution_count": 9,
     "metadata": {},
     "output_type": "execute_result"
    }
   ],
   "source": [
    "df"
   ]
  },
  {
   "cell_type": "code",
   "execution_count": 10,
   "id": "c291f4fd-5014-42cc-8c08-c6a90de3ef38",
   "metadata": {},
   "outputs": [
    {
     "data": {
      "text/plain": [
       "Index(['Server Region', 'Rules Violation', 'Spending Score'], dtype='object')"
      ]
     },
     "execution_count": 10,
     "metadata": {},
     "output_type": "execute_result"
    }
   ],
   "source": [
    "df.columns"
   ]
  },
  {
   "cell_type": "markdown",
   "id": "b298e992-b7b6-45bf-87f8-372bef09cc62",
   "metadata": {},
   "source": [
    "<h2>Encoding String Label To Numeric Label"
   ]
  },
  {
   "cell_type": "code",
   "execution_count": 11,
   "id": "f584c352-e74f-4cd4-bd4d-f2dd774f9a46",
   "metadata": {},
   "outputs": [],
   "source": [
    "from sklearn.preprocessing import LabelEncoder"
   ]
  },
  {
   "cell_type": "code",
   "execution_count": 12,
   "id": "8010d34d-3e6c-4f53-bba9-6b08becb2d48",
   "metadata": {},
   "outputs": [
    {
     "data": {
      "text/plain": [
       "0        Asia-Pacific\n",
       "1              Europe\n",
       "2      Southeast Asia\n",
       "3      Southeast Asia\n",
       "4       South America\n",
       "            ...      \n",
       "244            Europe\n",
       "245            Europe\n",
       "246    Southeast Asia\n",
       "247      Asia-Pacific\n",
       "248            Europe\n",
       "Name: Server Region, Length: 249, dtype: object"
      ]
     },
     "execution_count": 12,
     "metadata": {},
     "output_type": "execute_result"
    }
   ],
   "source": [
    "df.iloc[:, 0]"
   ]
  },
  {
   "cell_type": "code",
   "execution_count": 13,
   "id": "af8def9b-a1fe-4df0-811e-0e889cca004a",
   "metadata": {},
   "outputs": [
    {
     "name": "stdout",
     "output_type": "stream",
     "text": [
      "[0 1 4 4 3 0 0 4 2 4 1 4 4 1 1 2 4 1 4 1 0 1 2 4 4 0 4 4 1 1 4 0 0 0 4 1 0\n",
      " 2 0 4 2 2 4 1 4 0 1 1 2 1 4 1 4 4 1 4 4 2 1 0 4 0 0 4 1 0 1 1 4 1 1 4 4 1\n",
      " 1 4 4 4 1 4 4 4 2 4 4 1 2 1 2 4 1 0 1 1 1 4 4 3 4 4 1 3 4 1 2 3 2 1 1 4 3\n",
      " 4 1 2 4 1 4 3 1 4 4 2 0 1 1 1 1 2 0 4 1 2 1 4 1 1 4 4 2 2 4 2 2 2 0 1 0 1\n",
      " 1 0 1 4 4 2 4 4 2 1 1 1 4 1 1 4 4 4 1 2 2 4 2 1 3 4 4 4 0 4 2 4 1 1 0 4 1\n",
      " 4 1 1 1 4 4 2 1 4 4 2 1 0 0 4 2 1 4 0 1 4 1 0 4 4 0 4 1 4 3 2 1 4 1 1 4 1\n",
      " 4 4 4 4 4 2 2 4 1 4 4 4 4 1 1 2 1 0 4 0 4 4 1 1 4 0 1]\n"
     ]
    }
   ],
   "source": [
    "encode = LabelEncoder()\n",
    "encoded_Server_Region = encode.fit_transform(df.iloc[:, 0])\n",
    "print(encoded_Server_Region)"
   ]
  },
  {
   "cell_type": "code",
   "execution_count": 14,
   "id": "d849ca8a-86e9-4a96-b5ac-0fc12480568f",
   "metadata": {},
   "outputs": [],
   "source": [
    "df['Server Region'] = encoded_Server_Region"
   ]
  },
  {
   "cell_type": "code",
   "execution_count": 15,
   "id": "d59014e4-faed-4e29-8b79-fcb88013e8ae",
   "metadata": {},
   "outputs": [
    {
     "data": {
      "text/html": [
       "<div>\n",
       "<style scoped>\n",
       "    .dataframe tbody tr th:only-of-type {\n",
       "        vertical-align: middle;\n",
       "    }\n",
       "\n",
       "    .dataframe tbody tr th {\n",
       "        vertical-align: top;\n",
       "    }\n",
       "\n",
       "    .dataframe thead th {\n",
       "        text-align: right;\n",
       "    }\n",
       "</style>\n",
       "<table border=\"1\" class=\"dataframe\">\n",
       "  <thead>\n",
       "    <tr style=\"text-align: right;\">\n",
       "      <th></th>\n",
       "      <th>Server Region</th>\n",
       "      <th>Rules Violation</th>\n",
       "      <th>Spending Score</th>\n",
       "    </tr>\n",
       "  </thead>\n",
       "  <tbody>\n",
       "    <tr>\n",
       "      <th>0</th>\n",
       "      <td>0</td>\n",
       "      <td>Illegal resource obtainment</td>\n",
       "      <td>3</td>\n",
       "    </tr>\n",
       "    <tr>\n",
       "      <th>1</th>\n",
       "      <td>1</td>\n",
       "      <td>Illegal resource obtainment</td>\n",
       "      <td>1</td>\n",
       "    </tr>\n",
       "    <tr>\n",
       "      <th>2</th>\n",
       "      <td>4</td>\n",
       "      <td>Illegal resource obtainment</td>\n",
       "      <td>1</td>\n",
       "    </tr>\n",
       "    <tr>\n",
       "      <th>3</th>\n",
       "      <td>4</td>\n",
       "      <td>Illegal resource obtainment &amp; Cheating on Bygo...</td>\n",
       "      <td>3</td>\n",
       "    </tr>\n",
       "    <tr>\n",
       "      <th>4</th>\n",
       "      <td>3</td>\n",
       "      <td>Cheating on Bygone Phantasm</td>\n",
       "      <td>1</td>\n",
       "    </tr>\n",
       "    <tr>\n",
       "      <th>...</th>\n",
       "      <td>...</td>\n",
       "      <td>...</td>\n",
       "      <td>...</td>\n",
       "    </tr>\n",
       "    <tr>\n",
       "      <th>244</th>\n",
       "      <td>1</td>\n",
       "      <td>Illegal resource obtainment</td>\n",
       "      <td>2</td>\n",
       "    </tr>\n",
       "    <tr>\n",
       "      <th>245</th>\n",
       "      <td>1</td>\n",
       "      <td>Illegal resource obtainment</td>\n",
       "      <td>1</td>\n",
       "    </tr>\n",
       "    <tr>\n",
       "      <th>246</th>\n",
       "      <td>4</td>\n",
       "      <td>Illegal resource obtainment</td>\n",
       "      <td>3</td>\n",
       "    </tr>\n",
       "    <tr>\n",
       "      <th>247</th>\n",
       "      <td>0</td>\n",
       "      <td>Illegal resource obtainment</td>\n",
       "      <td>3</td>\n",
       "    </tr>\n",
       "    <tr>\n",
       "      <th>248</th>\n",
       "      <td>1</td>\n",
       "      <td>Illegal resource obtainment</td>\n",
       "      <td>3</td>\n",
       "    </tr>\n",
       "  </tbody>\n",
       "</table>\n",
       "<p>249 rows × 3 columns</p>\n",
       "</div>"
      ],
      "text/plain": [
       "     Server Region                                    Rules Violation  \\\n",
       "0                0                        Illegal resource obtainment   \n",
       "1                1                        Illegal resource obtainment   \n",
       "2                4                        Illegal resource obtainment   \n",
       "3                4  Illegal resource obtainment & Cheating on Bygo...   \n",
       "4                3                        Cheating on Bygone Phantasm   \n",
       "..             ...                                                ...   \n",
       "244              1                        Illegal resource obtainment   \n",
       "245              1                        Illegal resource obtainment   \n",
       "246              4                        Illegal resource obtainment   \n",
       "247              0                        Illegal resource obtainment   \n",
       "248              1                        Illegal resource obtainment   \n",
       "\n",
       "     Spending Score  \n",
       "0                 3  \n",
       "1                 1  \n",
       "2                 1  \n",
       "3                 3  \n",
       "4                 1  \n",
       "..              ...  \n",
       "244               2  \n",
       "245               1  \n",
       "246               3  \n",
       "247               3  \n",
       "248               3  \n",
       "\n",
       "[249 rows x 3 columns]"
      ]
     },
     "execution_count": 15,
     "metadata": {},
     "output_type": "execute_result"
    }
   ],
   "source": [
    "df"
   ]
  },
  {
   "cell_type": "code",
   "execution_count": 16,
   "id": "1d9f4e47-3f1d-40e1-b0d9-dad2029ec33b",
   "metadata": {},
   "outputs": [
    {
     "data": {
      "text/plain": [
       "0                            Illegal resource obtainment\n",
       "1                            Illegal resource obtainment\n",
       "2                            Illegal resource obtainment\n",
       "3      Illegal resource obtainment & Cheating on Bygo...\n",
       "4                            Cheating on Bygone Phantasm\n",
       "                             ...                        \n",
       "244                          Illegal resource obtainment\n",
       "245                          Illegal resource obtainment\n",
       "246                          Illegal resource obtainment\n",
       "247                          Illegal resource obtainment\n",
       "248                          Illegal resource obtainment\n",
       "Name: Rules Violation, Length: 249, dtype: object"
      ]
     },
     "execution_count": 16,
     "metadata": {},
     "output_type": "execute_result"
    }
   ],
   "source": [
    "df.iloc[:, 1]"
   ]
  },
  {
   "cell_type": "code",
   "execution_count": 17,
   "id": "08eaceee-e5ce-4e6a-b064-cb934ee34143",
   "metadata": {},
   "outputs": [
    {
     "name": "stdout",
     "output_type": "stream",
     "text": [
      "[1 1 1 2 0 1 1 1 1 1 1 1 1 1 1 1 1 1 1 1 1 2 1 1 1 0 2 1 1 1 1 1 1 1 1 1 1\n",
      " 1 1 1 1 1 1 0 1 1 1 1 1 1 1 1 1 1 1 1 1 1 1 1 1 1 1 1 1 1 1 1 1 1 1 1 1 1\n",
      " 1 1 1 1 1 1 2 1 0 1 2 1 1 1 1 1 1 1 1 1 1 1 1 1 1 1 1 1 1 1 1 1 1 1 1 1 1\n",
      " 1 1 1 1 1 1 1 0 1 1 1 1 1 1 1 1 1 1 1 1 1 1 1 1 1 1 1 0 1 1 1 1 1 1 1 1 0\n",
      " 1 0 1 1 1 1 1 1 1 1 1 1 1 1 1 1 1 1 0 1 1 1 1 1 1 1 1 1 1 1 1 1 1 1 1 1 0\n",
      " 1 1 1 1 1 1 1 1 1 1 1 1 1 1 1 1 1 1 1 0 0 1 1 1 1 1 2 0 1 1 1 1 1 1 1 1 1\n",
      " 1 1 1 1 1 1 1 1 1 0 1 1 1 1 1 1 1 0 1 1 1 1 1 1 1 1 1]\n"
     ]
    }
   ],
   "source": [
    "encode = LabelEncoder()\n",
    "encoded_RulesViolation = encode.fit_transform(df.iloc[:, 1])\n",
    "print(encoded_RulesViolation)"
   ]
  },
  {
   "cell_type": "code",
   "execution_count": 18,
   "id": "6cd0d217-488f-4ab2-a296-d97a355f0fb0",
   "metadata": {},
   "outputs": [],
   "source": [
    "df['Rules Violation'] = encoded_RulesViolation"
   ]
  },
  {
   "cell_type": "code",
   "execution_count": 19,
   "id": "5a1ccc85-fed9-4522-9d46-b9268f03387c",
   "metadata": {},
   "outputs": [
    {
     "data": {
      "text/html": [
       "<div>\n",
       "<style scoped>\n",
       "    .dataframe tbody tr th:only-of-type {\n",
       "        vertical-align: middle;\n",
       "    }\n",
       "\n",
       "    .dataframe tbody tr th {\n",
       "        vertical-align: top;\n",
       "    }\n",
       "\n",
       "    .dataframe thead th {\n",
       "        text-align: right;\n",
       "    }\n",
       "</style>\n",
       "<table border=\"1\" class=\"dataframe\">\n",
       "  <thead>\n",
       "    <tr style=\"text-align: right;\">\n",
       "      <th></th>\n",
       "      <th>Server Region</th>\n",
       "      <th>Rules Violation</th>\n",
       "      <th>Spending Score</th>\n",
       "    </tr>\n",
       "  </thead>\n",
       "  <tbody>\n",
       "    <tr>\n",
       "      <th>0</th>\n",
       "      <td>0</td>\n",
       "      <td>1</td>\n",
       "      <td>3</td>\n",
       "    </tr>\n",
       "    <tr>\n",
       "      <th>1</th>\n",
       "      <td>1</td>\n",
       "      <td>1</td>\n",
       "      <td>1</td>\n",
       "    </tr>\n",
       "    <tr>\n",
       "      <th>2</th>\n",
       "      <td>4</td>\n",
       "      <td>1</td>\n",
       "      <td>1</td>\n",
       "    </tr>\n",
       "    <tr>\n",
       "      <th>3</th>\n",
       "      <td>4</td>\n",
       "      <td>2</td>\n",
       "      <td>3</td>\n",
       "    </tr>\n",
       "    <tr>\n",
       "      <th>4</th>\n",
       "      <td>3</td>\n",
       "      <td>0</td>\n",
       "      <td>1</td>\n",
       "    </tr>\n",
       "    <tr>\n",
       "      <th>...</th>\n",
       "      <td>...</td>\n",
       "      <td>...</td>\n",
       "      <td>...</td>\n",
       "    </tr>\n",
       "    <tr>\n",
       "      <th>244</th>\n",
       "      <td>1</td>\n",
       "      <td>1</td>\n",
       "      <td>2</td>\n",
       "    </tr>\n",
       "    <tr>\n",
       "      <th>245</th>\n",
       "      <td>1</td>\n",
       "      <td>1</td>\n",
       "      <td>1</td>\n",
       "    </tr>\n",
       "    <tr>\n",
       "      <th>246</th>\n",
       "      <td>4</td>\n",
       "      <td>1</td>\n",
       "      <td>3</td>\n",
       "    </tr>\n",
       "    <tr>\n",
       "      <th>247</th>\n",
       "      <td>0</td>\n",
       "      <td>1</td>\n",
       "      <td>3</td>\n",
       "    </tr>\n",
       "    <tr>\n",
       "      <th>248</th>\n",
       "      <td>1</td>\n",
       "      <td>1</td>\n",
       "      <td>3</td>\n",
       "    </tr>\n",
       "  </tbody>\n",
       "</table>\n",
       "<p>249 rows × 3 columns</p>\n",
       "</div>"
      ],
      "text/plain": [
       "     Server Region  Rules Violation  Spending Score\n",
       "0                0                1               3\n",
       "1                1                1               1\n",
       "2                4                1               1\n",
       "3                4                2               3\n",
       "4                3                0               1\n",
       "..             ...              ...             ...\n",
       "244              1                1               2\n",
       "245              1                1               1\n",
       "246              4                1               3\n",
       "247              0                1               3\n",
       "248              1                1               3\n",
       "\n",
       "[249 rows x 3 columns]"
      ]
     },
     "execution_count": 19,
     "metadata": {},
     "output_type": "execute_result"
    }
   ],
   "source": [
    "df"
   ]
  },
  {
   "cell_type": "markdown",
   "id": "eb6df898-31ef-42e3-8504-f99c5ad2f68f",
   "metadata": {},
   "source": [
    "<h2> Server Encoding Section"
   ]
  },
  {
   "cell_type": "markdown",
   "id": "c15bd36c-a6d4-443e-a2f0-42f99dd403de",
   "metadata": {},
   "source": [
    "Southeast Asia    1189 </br>\n",
    "Europe            1086 </br>\n",
    "North America      454 </br>\n",
    "Asia-Pacific       407 </br>\n",
    "South America      235 </br>"
   ]
  },
  {
   "cell_type": "code",
   "execution_count": 20,
   "id": "07220ca8-0afe-4893-8468-293fa8975b5a",
   "metadata": {},
   "outputs": [
    {
     "data": {
      "text/plain": [
       "4    95\n",
       "1    80\n",
       "2    35\n",
       "0    31\n",
       "3     8\n",
       "Name: Server Region, dtype: int64"
      ]
     },
     "execution_count": 20,
     "metadata": {},
     "output_type": "execute_result"
    }
   ],
   "source": [
    "df['Server Region'].value_counts()"
   ]
  },
  {
   "cell_type": "markdown",
   "id": "9e19699d-c496-4db8-a57c-da7524c52d3a",
   "metadata": {},
   "source": [
    "<h2> Cheating Encoding Section"
   ]
  },
  {
   "cell_type": "markdown",
   "id": "9d28c40b-a431-4619-8f48-ff76f267f636",
   "metadata": {},
   "source": [
    "Illegal resource obtainment                                  3034 </br>\n",
    "Cheating on Bygone Phantasm                                   247 </br>\n",
    "Illegal resource obtainment & Cheating on Bygone Phantasm      90 </br>"
   ]
  },
  {
   "cell_type": "code",
   "execution_count": 21,
   "id": "a8ae2a9a-6b39-4119-9006-73d7d12aec30",
   "metadata": {},
   "outputs": [
    {
     "data": {
      "text/plain": [
       "1    228\n",
       "0     15\n",
       "2      6\n",
       "Name: Rules Violation, dtype: int64"
      ]
     },
     "execution_count": 21,
     "metadata": {},
     "output_type": "execute_result"
    }
   ],
   "source": [
    "df['Rules Violation'].value_counts()"
   ]
  },
  {
   "cell_type": "code",
   "execution_count": 22,
   "id": "35ac981d-806a-42da-8973-032c31571d02",
   "metadata": {},
   "outputs": [],
   "source": [
    "from sklearn.decomposition import PCA"
   ]
  },
  {
   "cell_type": "code",
   "execution_count": 23,
   "id": "23853911-25ee-4eac-9b1c-36b4ab2d4157",
   "metadata": {},
   "outputs": [],
   "source": [
    "pca_reducer = PCA(n_components=2)\n",
    "reduced_data = pca_reducer.fit_transform(df)"
   ]
  },
  {
   "cell_type": "code",
   "execution_count": 24,
   "id": "630c68ba-9be9-4290-9356-90abb4faacdc",
   "metadata": {},
   "outputs": [
    {
     "data": {
      "text/plain": [
       "(249, 2)"
      ]
     },
     "execution_count": 24,
     "metadata": {},
     "output_type": "execute_result"
    }
   ],
   "source": [
    "reduced_data.shape"
   ]
  },
  {
   "cell_type": "code",
   "execution_count": 25,
   "id": "d13ad32e-5349-42e6-ab77-6dfd36213865",
   "metadata": {},
   "outputs": [],
   "source": [
    "from sklearn.cluster import KMeans"
   ]
  },
  {
   "cell_type": "code",
   "execution_count": 26,
   "id": "b00eb825-3d2f-420a-ac1c-fc7595d7d206",
   "metadata": {},
   "outputs": [],
   "source": [
    "km = KMeans(n_clusters=4)"
   ]
  },
  {
   "cell_type": "code",
   "execution_count": 27,
   "id": "99ad379e-4055-48d2-a671-c0bc5e4c0c54",
   "metadata": {},
   "outputs": [],
   "source": [
    "cluster = km.fit(reduced_data)"
   ]
  },
  {
   "cell_type": "code",
   "execution_count": 28,
   "id": "2c6e74ae-caac-4b8d-839d-d6be38e7fcd4",
   "metadata": {},
   "outputs": [
    {
     "data": {
      "image/png": "[encoded data removed]",
      "text/plain": [
       "<Figure size 432x288 with 1 Axes>"
      ]
     },
     "metadata": {
      "needs_background": "light"
     },
     "output_type": "display_data"
    }
   ],
   "source": [
    "plt.scatter(reduced_data[:, 0], reduced_data[:, 1], label='Datapoints')\n",
    "plt.scatter(cluster.cluster_centers_[:, 0], cluster.cluster_centers_[:, 1], label='Clusters')\n",
    "plt.title(\"Sklearn version of KMeans\")\n",
    "plt.legend()\n",
    "plt.show()"
   ]
  },
  {
   "cell_type": "code",
   "execution_count": 29,
   "id": "edf83630-937a-4ea9-bd9d-a7604e8d976b",
   "metadata": {},
   "outputs": [],
   "source": [
    "from kmeans_numpy_improved import *"
   ]
  },
  {
   "cell_type": "code",
   "execution_count": 30,
   "id": "bbf5bd66-5b5b-45f4-a195-85181039ca9a",
   "metadata": {},
   "outputs": [],
   "source": [
    "km_numpy = KMeans_numpy(n_clusters=4, tolerance=0.00000000001)"
   ]
  },
  {
   "cell_type": "code",
   "execution_count": 31,
   "id": "b3076649-d350-40d1-8d3c-d6caffa658ab",
   "metadata": {},
   "outputs": [],
   "source": [
    "clusters, clusterd_data = km_numpy.fit(reduced_data)\n",
    "clusters = np.array(clusters)"
   ]
  },
  {
   "cell_type": "code",
   "execution_count": 32,
   "id": "7b8a5c71-082e-44e0-918f-0d99105d860b",
   "metadata": {},
   "outputs": [],
   "source": [
    "cluster_one_data = np.array(clusterd_data[0])\n",
    "cluster_two_data = np.array(clusterd_data[1])\n",
    "cluster_three_data = np.array(clusterd_data[2])\n",
    "cluster_four_data = np.array(clusterd_data[3])\n",
    "# cluster_five_data = np.array(clusterd_data[4])"
   ]
  },
  {
   "cell_type": "code",
   "execution_count": 33,
   "id": "830d6c7e-2ea1-49f1-a7de-4109da3325e6",
   "metadata": {},
   "outputs": [],
   "source": [
    "# print(\"Shape of the array = \",np.shape(cluster_four_data));"
   ]
  },
  {
   "cell_type": "code",
   "execution_count": 34,
   "id": "18d4356f-0a6d-45e5-9d68-20ba66dad990",
   "metadata": {},
   "outputs": [],
   "source": [
    "# print(\"Array Dimension = \",len(cluster_four_data.shape))"
   ]
  },
  {
   "cell_type": "code",
   "execution_count": 35,
   "id": "9c6195af-dd8e-4583-9963-4d00c6546370",
   "metadata": {},
   "outputs": [
    {
     "name": "stdout",
     "output_type": "stream",
     "text": [
      "Array Dimension =  2\n"
     ]
    }
   ],
   "source": [
    "print(\"Array Dimension = \",len(cluster_three_data.shape))"
   ]
  },
  {
   "cell_type": "code",
   "execution_count": 36,
   "id": "0a12f822-1ad6-4e28-ba49-12a5d4730086",
   "metadata": {},
   "outputs": [],
   "source": [
    "full_data_kmeans = KMeans_numpy(n_clusters=4)\n",
    "centroids, clus_data = full_data_kmeans.fit(df.values)"
   ]
  },
  {
   "cell_type": "code",
   "execution_count": 37,
   "id": "117e4b35-0827-4765-b29c-43cc96ea3274",
   "metadata": {},
   "outputs": [],
   "source": [
    "cluster_1 = pd.DataFrame(clus_data[0], columns=['Server Region','Rules Violation','Spending Score'])\n",
    "cluster_2 = pd.DataFrame(clus_data[1], columns=['Server Region','Rules Violation','Spending Score'])\n",
    "cluster_3 = pd.DataFrame(clus_data[2], columns=['Server Region','Rules Violation','Spending Score'])\n",
    "cluster_4 = pd.DataFrame(clus_data[3], columns=['Server Region','Rules Violation','Spending Score'])\n",
    "# cluster_5 = pd.DataFrame(clus_data[4], columns=['Server Region','Rules Violation','Spending Score'])"
   ]
  },
  {
   "cell_type": "markdown",
   "id": "ca28deeb-617e-4109-9d19-465b74b0860c",
   "metadata": {
    "tags": []
   },
   "source": [
    "<h2>Region </h2>\n",
    "0 = Asia-Pasific <br>\n",
    "1 = Europe <br>\n",
    "2 = North America <br>\n",
    "3 = South America <br>\n",
    "4 = Southeast Asia <br>\n",
    "<h2>Rules Violation </h2><br>\n",
    "0 = Cheating on Bygone Phantasm<br>\n",
    "1 = Illegal resource obtaintment<br>\n",
    "2 = Illegal resource obtainment & Cheating on Bygone Phantasm 90"
   ]
  },
  {
   "cell_type": "markdown",
   "id": "ddd21586-ff33-4d67-84e7-0dc22d52f7d7",
   "metadata": {},
   "source": [
    "<h2>Analisis Cluster 1"
   ]
  },
  {
   "cell_type": "code",
   "execution_count": 38,
   "id": "1f97105c-e0c4-44ef-a223-ec3c04124b32",
   "metadata": {},
   "outputs": [],
   "source": [
    "if ([cluster_1[\"Server Region\"] == 0 | (cluster_1[\"Server Region\"] == 1) | (cluster_1[\"Server Region\"] == 2) | (cluster_1[\"Server Region\"] == 3) | (cluster_1[\"Server Region\"] == 4)]):\n",
    "       cluster_1[\"Server Region\"].replace(\n",
    "       to_replace=[0,1,2,3,4], \n",
    "        value=['Asia-Pasific','Europe','North America','South America','Southeast Asia'],\n",
    "       inplace=True)"
   ]
  },
  {
   "cell_type": "code",
   "execution_count": 39,
   "id": "e6531d78-09a6-4fa1-bd50-076db95932b0",
   "metadata": {},
   "outputs": [],
   "source": [
    "#(df['col'] < -0.25) | (df['col'] > 0.25)"
   ]
  },
  {
   "cell_type": "code",
   "execution_count": 40,
   "id": "4a420fe9-f8e9-4f75-8343-c040456413c3",
   "metadata": {},
   "outputs": [],
   "source": [
    "    #Replace to string values after get all the cluster\n",
    "    cluster_1['Rules Violation'].replace(\n",
    "    to_replace=[0,1,2], \n",
    "    value=['Cheating On Bygone Phantasm','Illegal Resource Obtaintment','Illegal Resource Obtaintment & Cheating on Bygone Phantasm 90'],\n",
    "    inplace=True)"
   ]
  },
  {
   "cell_type": "code",
   "execution_count": 41,
   "id": "8b0f94d9-9519-4b92-af0a-e01013e5d434",
   "metadata": {},
   "outputs": [
    {
     "data": {
      "text/html": [
       "<div>\n",
       "<style scoped>\n",
       "    .dataframe tbody tr th:only-of-type {\n",
       "        vertical-align: middle;\n",
       "    }\n",
       "\n",
       "    .dataframe tbody tr th {\n",
       "        vertical-align: top;\n",
       "    }\n",
       "\n",
       "    .dataframe thead th {\n",
       "        text-align: right;\n",
       "    }\n",
       "</style>\n",
       "<table border=\"1\" class=\"dataframe\">\n",
       "  <thead>\n",
       "    <tr style=\"text-align: right;\">\n",
       "      <th></th>\n",
       "      <th>Server Region</th>\n",
       "      <th>Rules Violation</th>\n",
       "      <th>Spending Score</th>\n",
       "    </tr>\n",
       "  </thead>\n",
       "  <tbody>\n",
       "    <tr>\n",
       "      <th>0</th>\n",
       "      <td>Europe</td>\n",
       "      <td>Illegal Resource Obtaintment</td>\n",
       "      <td>1</td>\n",
       "    </tr>\n",
       "    <tr>\n",
       "      <th>1</th>\n",
       "      <td>Asia-Pasific</td>\n",
       "      <td>Illegal Resource Obtaintment</td>\n",
       "      <td>0</td>\n",
       "    </tr>\n",
       "    <tr>\n",
       "      <th>2</th>\n",
       "      <td>Asia-Pasific</td>\n",
       "      <td>Illegal Resource Obtaintment</td>\n",
       "      <td>0</td>\n",
       "    </tr>\n",
       "    <tr>\n",
       "      <th>3</th>\n",
       "      <td>North America</td>\n",
       "      <td>Illegal Resource Obtaintment</td>\n",
       "      <td>1</td>\n",
       "    </tr>\n",
       "    <tr>\n",
       "      <th>4</th>\n",
       "      <td>Europe</td>\n",
       "      <td>Illegal Resource Obtaintment</td>\n",
       "      <td>1</td>\n",
       "    </tr>\n",
       "    <tr>\n",
       "      <th>...</th>\n",
       "      <td>...</td>\n",
       "      <td>...</td>\n",
       "      <td>...</td>\n",
       "    </tr>\n",
       "    <tr>\n",
       "      <th>70</th>\n",
       "      <td>Europe</td>\n",
       "      <td>Illegal Resource Obtaintment</td>\n",
       "      <td>0</td>\n",
       "    </tr>\n",
       "    <tr>\n",
       "      <th>71</th>\n",
       "      <td>Europe</td>\n",
       "      <td>Illegal Resource Obtaintment</td>\n",
       "      <td>1</td>\n",
       "    </tr>\n",
       "    <tr>\n",
       "      <th>72</th>\n",
       "      <td>Asia-Pasific</td>\n",
       "      <td>Cheating On Bygone Phantasm</td>\n",
       "      <td>0</td>\n",
       "    </tr>\n",
       "    <tr>\n",
       "      <th>73</th>\n",
       "      <td>Asia-Pasific</td>\n",
       "      <td>Illegal Resource Obtaintment</td>\n",
       "      <td>1</td>\n",
       "    </tr>\n",
       "    <tr>\n",
       "      <th>74</th>\n",
       "      <td>Europe</td>\n",
       "      <td>Illegal Resource Obtaintment</td>\n",
       "      <td>1</td>\n",
       "    </tr>\n",
       "  </tbody>\n",
       "</table>\n",
       "<p>75 rows × 3 columns</p>\n",
       "</div>"
      ],
      "text/plain": [
       "    Server Region               Rules Violation  Spending Score\n",
       "0          Europe  Illegal Resource Obtaintment               1\n",
       "1    Asia-Pasific  Illegal Resource Obtaintment               0\n",
       "2    Asia-Pasific  Illegal Resource Obtaintment               0\n",
       "3   North America  Illegal Resource Obtaintment               1\n",
       "4          Europe  Illegal Resource Obtaintment               1\n",
       "..            ...                           ...             ...\n",
       "70         Europe  Illegal Resource Obtaintment               0\n",
       "71         Europe  Illegal Resource Obtaintment               1\n",
       "72   Asia-Pasific   Cheating On Bygone Phantasm               0\n",
       "73   Asia-Pasific  Illegal Resource Obtaintment               1\n",
       "74         Europe  Illegal Resource Obtaintment               1\n",
       "\n",
       "[75 rows x 3 columns]"
      ]
     },
     "execution_count": 41,
     "metadata": {},
     "output_type": "execute_result"
    }
   ],
   "source": [
    "cluster_1"
   ]
  },
  {
   "cell_type": "markdown",
   "id": "d2ca0ccf-3d83-4f7b-aa08-6c8458001285",
   "metadata": {},
   "source": [
    "<h2> Hasil dan Kesimpulan dari Cluster 1"
   ]
  },
  {
   "cell_type": "code",
   "execution_count": 42,
   "id": "1d123e93-930c-489b-8b3b-daa267971ee2",
   "metadata": {},
   "outputs": [
    {
     "name": "stdout",
     "output_type": "stream",
     "text": [
      "Jumlah Penggunaan Kecurangan dan Spending Score pada masing2 akun yang dibanned pada Cluster 1\n"
     ]
    },
    {
     "data": {
      "text/plain": [
       "Server Region  Rules Violation                                              \n",
       "Asia-Pasific   Illegal Resource Obtaintment                                     12\n",
       "               Cheating On Bygone Phantasm                                       1\n",
       "Europe         Illegal Resource Obtaintment                                     44\n",
       "               Cheating On Bygone Phantasm                                       4\n",
       "               Illegal Resource Obtaintment & Cheating on Bygone Phantasm 90     1\n",
       "North America  Illegal Resource Obtaintment                                     11\n",
       "               Cheating On Bygone Phantasm                                       2\n",
       "Name: Rules Violation, dtype: int64"
      ]
     },
     "execution_count": 42,
     "metadata": {},
     "output_type": "execute_result"
    }
   ],
   "source": [
    "print(\"Jumlah Penggunaan Kecurangan dan Spending Score pada masing2 akun yang dibanned pada Cluster 1\")\n",
    "cluster_1.groupby('Server Region')['Rules Violation'].value_counts()"
   ]
  },
  {
   "cell_type": "code",
   "execution_count": 71,
   "id": "b030ac5d-0329-46cd-85be-ab7cf80c83ff",
   "metadata": {},
   "outputs": [
    {
     "data": {
      "text/plain": [
       "Server Region  Rules Violation                                                Spending Score\n",
       "Asia-Pasific   Illegal Resource Obtaintment                                   1                  7\n",
       "                                                                              0                  5\n",
       "               Cheating On Bygone Phantasm                                    0                  1\n",
       "Europe         Illegal Resource Obtaintment                                   1                 23\n",
       "                                                                              0                 21\n",
       "               Cheating On Bygone Phantasm                                    0                  2\n",
       "                                                                              1                  2\n",
       "               Illegal Resource Obtaintment & Cheating on Bygone Phantasm 90  1                  1\n",
       "North America  Illegal Resource Obtaintment                                   1                  7\n",
       "                                                                              0                  4\n",
       "               Cheating On Bygone Phantasm                                    1                  2\n",
       "dtype: int64"
      ]
     },
     "execution_count": 71,
     "metadata": {},
     "output_type": "execute_result"
    }
   ],
   "source": [
    "cluster_1.groupby('Server Region')['Rules Violation','Spending Score'].value_counts()"
   ]
  },
  {
   "cell_type": "code",
   "execution_count": 43,
   "id": "2851b6f8-26e3-4926-85db-4f9bd106eafa",
   "metadata": {},
   "outputs": [
    {
     "data": {
      "text/plain": [
       "Server Region  Spending Score\n",
       "Asia-Pasific   1                  7\n",
       "               0                  6\n",
       "Europe         1                 26\n",
       "               0                 23\n",
       "North America  1                  9\n",
       "               0                  4\n",
       "Name: Spending Score, dtype: int64"
      ]
     },
     "execution_count": 43,
     "metadata": {},
     "output_type": "execute_result"
    }
   ],
   "source": [
    "cluster_1.groupby('Server Region')['Spending Score'].value_counts()"
   ]
  },
  {
   "cell_type": "code",
   "execution_count": 44,
   "id": "a4ffbe79-998f-4877-8481-42f1ffa5fb59",
   "metadata": {},
   "outputs": [
    {
     "data": {
      "text/plain": [
       "75"
      ]
     },
     "execution_count": 44,
     "metadata": {},
     "output_type": "execute_result"
    }
   ],
   "source": [
    "cluster_1['Rules Violation'].value_counts().sum()"
   ]
  },
  {
   "cell_type": "markdown",
   "id": "6f07c8f0-09bd-46a2-8b4f-91e6f099a2a8",
   "metadata": {},
   "source": [
    "<h2> Analisis pada Cluster 2 </h2>"
   ]
  },
  {
   "cell_type": "code",
   "execution_count": 45,
   "id": "6dbc7bf3-d2a9-49a8-add4-840e6e479e41",
   "metadata": {},
   "outputs": [],
   "source": [
    "if ([cluster_2[\"Server Region\"] == 0 | (cluster_2[\"Server Region\"] == 1) | (cluster_2[\"Server Region\"] == 2) | (cluster_2[\"Server Region\"] == 3) | (cluster_2[\"Server Region\"] == 4)]):\n",
    "       cluster_2[\"Server Region\"].replace(\n",
    "       to_replace=[0,1,2,3,4], \n",
    "        value=['Asia-Pasific','Europe','North America','South America','Southeast Asia'],\n",
    "       inplace=True)"
   ]
  },
  {
   "cell_type": "code",
   "execution_count": 46,
   "id": "b4875e38-0052-44bb-b3ba-76a57df10a7e",
   "metadata": {},
   "outputs": [],
   "source": [
    " cluster_2['Rules Violation'].replace(\n",
    "    to_replace=[0,1,2], \n",
    "    value=['Cheating On Bygone Phantasm','Illegal Resource Obtaintment','Illegal Resource Obtaintment & Cheating on Bygone Phantasm 90'],\n",
    "    inplace=True)"
   ]
  },
  {
   "cell_type": "code",
   "execution_count": 47,
   "id": "4aa91067-1560-4a0e-a8d3-cfb1ac38bd84",
   "metadata": {},
   "outputs": [
    {
     "data": {
      "text/html": [
       "<div>\n",
       "<style scoped>\n",
       "    .dataframe tbody tr th:only-of-type {\n",
       "        vertical-align: middle;\n",
       "    }\n",
       "\n",
       "    .dataframe tbody tr th {\n",
       "        vertical-align: top;\n",
       "    }\n",
       "\n",
       "    .dataframe thead th {\n",
       "        text-align: right;\n",
       "    }\n",
       "</style>\n",
       "<table border=\"1\" class=\"dataframe\">\n",
       "  <thead>\n",
       "    <tr style=\"text-align: right;\">\n",
       "      <th></th>\n",
       "      <th>Server Region</th>\n",
       "      <th>Rules Violation</th>\n",
       "      <th>Spending Score</th>\n",
       "    </tr>\n",
       "  </thead>\n",
       "  <tbody>\n",
       "    <tr>\n",
       "      <th>0</th>\n",
       "      <td>Southeast Asia</td>\n",
       "      <td>Illegal Resource Obtaintment &amp; Cheating on Byg...</td>\n",
       "      <td>3</td>\n",
       "    </tr>\n",
       "    <tr>\n",
       "      <th>1</th>\n",
       "      <td>Southeast Asia</td>\n",
       "      <td>Illegal Resource Obtaintment</td>\n",
       "      <td>2</td>\n",
       "    </tr>\n",
       "    <tr>\n",
       "      <th>2</th>\n",
       "      <td>Southeast Asia</td>\n",
       "      <td>Illegal Resource Obtaintment</td>\n",
       "      <td>2</td>\n",
       "    </tr>\n",
       "    <tr>\n",
       "      <th>3</th>\n",
       "      <td>Southeast Asia</td>\n",
       "      <td>Illegal Resource Obtaintment</td>\n",
       "      <td>3</td>\n",
       "    </tr>\n",
       "    <tr>\n",
       "      <th>4</th>\n",
       "      <td>Southeast Asia</td>\n",
       "      <td>Illegal Resource Obtaintment</td>\n",
       "      <td>3</td>\n",
       "    </tr>\n",
       "    <tr>\n",
       "      <th>5</th>\n",
       "      <td>Southeast Asia</td>\n",
       "      <td>Illegal Resource Obtaintment</td>\n",
       "      <td>2</td>\n",
       "    </tr>\n",
       "    <tr>\n",
       "      <th>6</th>\n",
       "      <td>Southeast Asia</td>\n",
       "      <td>Illegal Resource Obtaintment &amp; Cheating on Byg...</td>\n",
       "      <td>2</td>\n",
       "    </tr>\n",
       "    <tr>\n",
       "      <th>7</th>\n",
       "      <td>Southeast Asia</td>\n",
       "      <td>Illegal Resource Obtaintment</td>\n",
       "      <td>2</td>\n",
       "    </tr>\n",
       "    <tr>\n",
       "      <th>8</th>\n",
       "      <td>Southeast Asia</td>\n",
       "      <td>Illegal Resource Obtaintment</td>\n",
       "      <td>2</td>\n",
       "    </tr>\n",
       "    <tr>\n",
       "      <th>9</th>\n",
       "      <td>Southeast Asia</td>\n",
       "      <td>Illegal Resource Obtaintment</td>\n",
       "      <td>2</td>\n",
       "    </tr>\n",
       "    <tr>\n",
       "      <th>10</th>\n",
       "      <td>Southeast Asia</td>\n",
       "      <td>Illegal Resource Obtaintment</td>\n",
       "      <td>2</td>\n",
       "    </tr>\n",
       "    <tr>\n",
       "      <th>11</th>\n",
       "      <td>Southeast Asia</td>\n",
       "      <td>Illegal Resource Obtaintment</td>\n",
       "      <td>3</td>\n",
       "    </tr>\n",
       "    <tr>\n",
       "      <th>12</th>\n",
       "      <td>Southeast Asia</td>\n",
       "      <td>Illegal Resource Obtaintment</td>\n",
       "      <td>2</td>\n",
       "    </tr>\n",
       "    <tr>\n",
       "      <th>13</th>\n",
       "      <td>Southeast Asia</td>\n",
       "      <td>Illegal Resource Obtaintment</td>\n",
       "      <td>3</td>\n",
       "    </tr>\n",
       "    <tr>\n",
       "      <th>14</th>\n",
       "      <td>Southeast Asia</td>\n",
       "      <td>Illegal Resource Obtaintment</td>\n",
       "      <td>3</td>\n",
       "    </tr>\n",
       "    <tr>\n",
       "      <th>15</th>\n",
       "      <td>Southeast Asia</td>\n",
       "      <td>Illegal Resource Obtaintment</td>\n",
       "      <td>2</td>\n",
       "    </tr>\n",
       "    <tr>\n",
       "      <th>16</th>\n",
       "      <td>Southeast Asia</td>\n",
       "      <td>Illegal Resource Obtaintment</td>\n",
       "      <td>2</td>\n",
       "    </tr>\n",
       "    <tr>\n",
       "      <th>17</th>\n",
       "      <td>Southeast Asia</td>\n",
       "      <td>Illegal Resource Obtaintment &amp; Cheating on Byg...</td>\n",
       "      <td>3</td>\n",
       "    </tr>\n",
       "    <tr>\n",
       "      <th>18</th>\n",
       "      <td>Southeast Asia</td>\n",
       "      <td>Illegal Resource Obtaintment</td>\n",
       "      <td>2</td>\n",
       "    </tr>\n",
       "    <tr>\n",
       "      <th>19</th>\n",
       "      <td>Southeast Asia</td>\n",
       "      <td>Illegal Resource Obtaintment</td>\n",
       "      <td>3</td>\n",
       "    </tr>\n",
       "    <tr>\n",
       "      <th>20</th>\n",
       "      <td>Southeast Asia</td>\n",
       "      <td>Illegal Resource Obtaintment</td>\n",
       "      <td>2</td>\n",
       "    </tr>\n",
       "    <tr>\n",
       "      <th>21</th>\n",
       "      <td>Southeast Asia</td>\n",
       "      <td>Illegal Resource Obtaintment</td>\n",
       "      <td>2</td>\n",
       "    </tr>\n",
       "    <tr>\n",
       "      <th>22</th>\n",
       "      <td>Southeast Asia</td>\n",
       "      <td>Illegal Resource Obtaintment</td>\n",
       "      <td>3</td>\n",
       "    </tr>\n",
       "    <tr>\n",
       "      <th>23</th>\n",
       "      <td>Southeast Asia</td>\n",
       "      <td>Illegal Resource Obtaintment</td>\n",
       "      <td>2</td>\n",
       "    </tr>\n",
       "    <tr>\n",
       "      <th>24</th>\n",
       "      <td>Southeast Asia</td>\n",
       "      <td>Illegal Resource Obtaintment</td>\n",
       "      <td>2</td>\n",
       "    </tr>\n",
       "    <tr>\n",
       "      <th>25</th>\n",
       "      <td>Southeast Asia</td>\n",
       "      <td>Illegal Resource Obtaintment</td>\n",
       "      <td>3</td>\n",
       "    </tr>\n",
       "    <tr>\n",
       "      <th>26</th>\n",
       "      <td>Southeast Asia</td>\n",
       "      <td>Illegal Resource Obtaintment</td>\n",
       "      <td>3</td>\n",
       "    </tr>\n",
       "    <tr>\n",
       "      <th>27</th>\n",
       "      <td>Southeast Asia</td>\n",
       "      <td>Illegal Resource Obtaintment</td>\n",
       "      <td>2</td>\n",
       "    </tr>\n",
       "    <tr>\n",
       "      <th>28</th>\n",
       "      <td>Southeast Asia</td>\n",
       "      <td>Illegal Resource Obtaintment</td>\n",
       "      <td>3</td>\n",
       "    </tr>\n",
       "    <tr>\n",
       "      <th>29</th>\n",
       "      <td>Southeast Asia</td>\n",
       "      <td>Illegal Resource Obtaintment</td>\n",
       "      <td>3</td>\n",
       "    </tr>\n",
       "    <tr>\n",
       "      <th>30</th>\n",
       "      <td>Southeast Asia</td>\n",
       "      <td>Illegal Resource Obtaintment</td>\n",
       "      <td>3</td>\n",
       "    </tr>\n",
       "    <tr>\n",
       "      <th>31</th>\n",
       "      <td>Southeast Asia</td>\n",
       "      <td>Illegal Resource Obtaintment</td>\n",
       "      <td>3</td>\n",
       "    </tr>\n",
       "    <tr>\n",
       "      <th>32</th>\n",
       "      <td>Southeast Asia</td>\n",
       "      <td>Illegal Resource Obtaintment</td>\n",
       "      <td>3</td>\n",
       "    </tr>\n",
       "    <tr>\n",
       "      <th>33</th>\n",
       "      <td>Southeast Asia</td>\n",
       "      <td>Illegal Resource Obtaintment</td>\n",
       "      <td>3</td>\n",
       "    </tr>\n",
       "    <tr>\n",
       "      <th>34</th>\n",
       "      <td>Southeast Asia</td>\n",
       "      <td>Illegal Resource Obtaintment</td>\n",
       "      <td>3</td>\n",
       "    </tr>\n",
       "    <tr>\n",
       "      <th>35</th>\n",
       "      <td>Southeast Asia</td>\n",
       "      <td>Illegal Resource Obtaintment</td>\n",
       "      <td>3</td>\n",
       "    </tr>\n",
       "    <tr>\n",
       "      <th>36</th>\n",
       "      <td>Southeast Asia</td>\n",
       "      <td>Illegal Resource Obtaintment</td>\n",
       "      <td>3</td>\n",
       "    </tr>\n",
       "    <tr>\n",
       "      <th>37</th>\n",
       "      <td>Southeast Asia</td>\n",
       "      <td>Illegal Resource Obtaintment</td>\n",
       "      <td>2</td>\n",
       "    </tr>\n",
       "    <tr>\n",
       "      <th>38</th>\n",
       "      <td>Southeast Asia</td>\n",
       "      <td>Illegal Resource Obtaintment</td>\n",
       "      <td>2</td>\n",
       "    </tr>\n",
       "    <tr>\n",
       "      <th>39</th>\n",
       "      <td>Southeast Asia</td>\n",
       "      <td>Illegal Resource Obtaintment</td>\n",
       "      <td>3</td>\n",
       "    </tr>\n",
       "    <tr>\n",
       "      <th>40</th>\n",
       "      <td>Southeast Asia</td>\n",
       "      <td>Illegal Resource Obtaintment</td>\n",
       "      <td>3</td>\n",
       "    </tr>\n",
       "    <tr>\n",
       "      <th>41</th>\n",
       "      <td>Southeast Asia</td>\n",
       "      <td>Illegal Resource Obtaintment</td>\n",
       "      <td>2</td>\n",
       "    </tr>\n",
       "    <tr>\n",
       "      <th>42</th>\n",
       "      <td>Southeast Asia</td>\n",
       "      <td>Illegal Resource Obtaintment</td>\n",
       "      <td>2</td>\n",
       "    </tr>\n",
       "    <tr>\n",
       "      <th>43</th>\n",
       "      <td>Southeast Asia</td>\n",
       "      <td>Illegal Resource Obtaintment &amp; Cheating on Byg...</td>\n",
       "      <td>3</td>\n",
       "    </tr>\n",
       "    <tr>\n",
       "      <th>44</th>\n",
       "      <td>South America</td>\n",
       "      <td>Illegal Resource Obtaintment</td>\n",
       "      <td>2</td>\n",
       "    </tr>\n",
       "    <tr>\n",
       "      <th>45</th>\n",
       "      <td>Southeast Asia</td>\n",
       "      <td>Illegal Resource Obtaintment</td>\n",
       "      <td>3</td>\n",
       "    </tr>\n",
       "    <tr>\n",
       "      <th>46</th>\n",
       "      <td>Southeast Asia</td>\n",
       "      <td>Illegal Resource Obtaintment</td>\n",
       "      <td>2</td>\n",
       "    </tr>\n",
       "    <tr>\n",
       "      <th>47</th>\n",
       "      <td>Southeast Asia</td>\n",
       "      <td>Illegal Resource Obtaintment</td>\n",
       "      <td>3</td>\n",
       "    </tr>\n",
       "    <tr>\n",
       "      <th>48</th>\n",
       "      <td>Southeast Asia</td>\n",
       "      <td>Cheating On Bygone Phantasm</td>\n",
       "      <td>3</td>\n",
       "    </tr>\n",
       "    <tr>\n",
       "      <th>49</th>\n",
       "      <td>Southeast Asia</td>\n",
       "      <td>Illegal Resource Obtaintment</td>\n",
       "      <td>3</td>\n",
       "    </tr>\n",
       "    <tr>\n",
       "      <th>50</th>\n",
       "      <td>Southeast Asia</td>\n",
       "      <td>Illegal Resource Obtaintment</td>\n",
       "      <td>3</td>\n",
       "    </tr>\n",
       "    <tr>\n",
       "      <th>51</th>\n",
       "      <td>Southeast Asia</td>\n",
       "      <td>Illegal Resource Obtaintment</td>\n",
       "      <td>2</td>\n",
       "    </tr>\n",
       "    <tr>\n",
       "      <th>52</th>\n",
       "      <td>Southeast Asia</td>\n",
       "      <td>Illegal Resource Obtaintment</td>\n",
       "      <td>3</td>\n",
       "    </tr>\n",
       "  </tbody>\n",
       "</table>\n",
       "</div>"
      ],
      "text/plain": [
       "     Server Region                                    Rules Violation  \\\n",
       "0   Southeast Asia  Illegal Resource Obtaintment & Cheating on Byg...   \n",
       "1   Southeast Asia                       Illegal Resource Obtaintment   \n",
       "2   Southeast Asia                       Illegal Resource Obtaintment   \n",
       "3   Southeast Asia                       Illegal Resource Obtaintment   \n",
       "4   Southeast Asia                       Illegal Resource Obtaintment   \n",
       "5   Southeast Asia                       Illegal Resource Obtaintment   \n",
       "6   Southeast Asia  Illegal Resource Obtaintment & Cheating on Byg...   \n",
       "7   Southeast Asia                       Illegal Resource Obtaintment   \n",
       "8   Southeast Asia                       Illegal Resource Obtaintment   \n",
       "9   Southeast Asia                       Illegal Resource Obtaintment   \n",
       "10  Southeast Asia                       Illegal Resource Obtaintment   \n",
       "11  Southeast Asia                       Illegal Resource Obtaintment   \n",
       "12  Southeast Asia                       Illegal Resource Obtaintment   \n",
       "13  Southeast Asia                       Illegal Resource Obtaintment   \n",
       "14  Southeast Asia                       Illegal Resource Obtaintment   \n",
       "15  Southeast Asia                       Illegal Resource Obtaintment   \n",
       "16  Southeast Asia                       Illegal Resource Obtaintment   \n",
       "17  Southeast Asia  Illegal Resource Obtaintment & Cheating on Byg...   \n",
       "18  Southeast Asia                       Illegal Resource Obtaintment   \n",
       "19  Southeast Asia                       Illegal Resource Obtaintment   \n",
       "20  Southeast Asia                       Illegal Resource Obtaintment   \n",
       "21  Southeast Asia                       Illegal Resource Obtaintment   \n",
       "22  Southeast Asia                       Illegal Resource Obtaintment   \n",
       "23  Southeast Asia                       Illegal Resource Obtaintment   \n",
       "24  Southeast Asia                       Illegal Resource Obtaintment   \n",
       "25  Southeast Asia                       Illegal Resource Obtaintment   \n",
       "26  Southeast Asia                       Illegal Resource Obtaintment   \n",
       "27  Southeast Asia                       Illegal Resource Obtaintment   \n",
       "28  Southeast Asia                       Illegal Resource Obtaintment   \n",
       "29  Southeast Asia                       Illegal Resource Obtaintment   \n",
       "30  Southeast Asia                       Illegal Resource Obtaintment   \n",
       "31  Southeast Asia                       Illegal Resource Obtaintment   \n",
       "32  Southeast Asia                       Illegal Resource Obtaintment   \n",
       "33  Southeast Asia                       Illegal Resource Obtaintment   \n",
       "34  Southeast Asia                       Illegal Resource Obtaintment   \n",
       "35  Southeast Asia                       Illegal Resource Obtaintment   \n",
       "36  Southeast Asia                       Illegal Resource Obtaintment   \n",
       "37  Southeast Asia                       Illegal Resource Obtaintment   \n",
       "38  Southeast Asia                       Illegal Resource Obtaintment   \n",
       "39  Southeast Asia                       Illegal Resource Obtaintment   \n",
       "40  Southeast Asia                       Illegal Resource Obtaintment   \n",
       "41  Southeast Asia                       Illegal Resource Obtaintment   \n",
       "42  Southeast Asia                       Illegal Resource Obtaintment   \n",
       "43  Southeast Asia  Illegal Resource Obtaintment & Cheating on Byg...   \n",
       "44   South America                       Illegal Resource Obtaintment   \n",
       "45  Southeast Asia                       Illegal Resource Obtaintment   \n",
       "46  Southeast Asia                       Illegal Resource Obtaintment   \n",
       "47  Southeast Asia                       Illegal Resource Obtaintment   \n",
       "48  Southeast Asia                        Cheating On Bygone Phantasm   \n",
       "49  Southeast Asia                       Illegal Resource Obtaintment   \n",
       "50  Southeast Asia                       Illegal Resource Obtaintment   \n",
       "51  Southeast Asia                       Illegal Resource Obtaintment   \n",
       "52  Southeast Asia                       Illegal Resource Obtaintment   \n",
       "\n",
       "    Spending Score  \n",
       "0                3  \n",
       "1                2  \n",
       "2                2  \n",
       "3                3  \n",
       "4                3  \n",
       "5                2  \n",
       "6                2  \n",
       "7                2  \n",
       "8                2  \n",
       "9                2  \n",
       "10               2  \n",
       "11               3  \n",
       "12               2  \n",
       "13               3  \n",
       "14               3  \n",
       "15               2  \n",
       "16               2  \n",
       "17               3  \n",
       "18               2  \n",
       "19               3  \n",
       "20               2  \n",
       "21               2  \n",
       "22               3  \n",
       "23               2  \n",
       "24               2  \n",
       "25               3  \n",
       "26               3  \n",
       "27               2  \n",
       "28               3  \n",
       "29               3  \n",
       "30               3  \n",
       "31               3  \n",
       "32               3  \n",
       "33               3  \n",
       "34               3  \n",
       "35               3  \n",
       "36               3  \n",
       "37               2  \n",
       "38               2  \n",
       "39               3  \n",
       "40               3  \n",
       "41               2  \n",
       "42               2  \n",
       "43               3  \n",
       "44               2  \n",
       "45               3  \n",
       "46               2  \n",
       "47               3  \n",
       "48               3  \n",
       "49               3  \n",
       "50               3  \n",
       "51               2  \n",
       "52               3  "
      ]
     },
     "execution_count": 47,
     "metadata": {},
     "output_type": "execute_result"
    }
   ],
   "source": [
    "cluster_2"
   ]
  },
  {
   "cell_type": "markdown",
   "id": "849affd9-3c9a-4184-ac52-cdf59f0d2a0e",
   "metadata": {},
   "source": [
    "<h2> Hasil dan Kesimpulan dari Cluster 2"
   ]
  },
  {
   "cell_type": "code",
   "execution_count": 48,
   "id": "5c8f99e4-8320-49e8-a241-aee8f455beee",
   "metadata": {},
   "outputs": [
    {
     "name": "stdout",
     "output_type": "stream",
     "text": [
      "Jumlah Penggunaan Kecurangan dan Spending Score pada masing2 akun yang dibanned pada Cluster 2\n"
     ]
    },
    {
     "data": {
      "text/plain": [
       "Server Region   Rules Violation                                              \n",
       "South America   Illegal Resource Obtaintment                                      1\n",
       "Southeast Asia  Illegal Resource Obtaintment                                     47\n",
       "                Illegal Resource Obtaintment & Cheating on Bygone Phantasm 90     4\n",
       "                Cheating On Bygone Phantasm                                       1\n",
       "Name: Rules Violation, dtype: int64"
      ]
     },
     "execution_count": 48,
     "metadata": {},
     "output_type": "execute_result"
    }
   ],
   "source": [
    "print(\"Jumlah Penggunaan Kecurangan dan Spending Score pada masing2 akun yang dibanned pada Cluster 2\")\n",
    "cluster_2.groupby('Server Region')['Rules Violation'].value_counts()"
   ]
  },
  {
   "cell_type": "code",
   "execution_count": 76,
   "id": "91ec7fb2-6439-46af-afc1-77d4197e7aba",
   "metadata": {},
   "outputs": [
    {
     "data": {
      "text/plain": [
       "Server Region   Rules Violation                                                Spending Score\n",
       "South America   Illegal Resource Obtaintment                                   2                  1\n",
       "Southeast Asia  Illegal Resource Obtaintment                                   3                 25\n",
       "                                                                               2                 22\n",
       "                Illegal Resource Obtaintment & Cheating on Bygone Phantasm 90  3                  3\n",
       "                Cheating On Bygone Phantasm                                    3                  1\n",
       "                Illegal Resource Obtaintment & Cheating on Bygone Phantasm 90  2                  1\n",
       "dtype: int64"
      ]
     },
     "execution_count": 76,
     "metadata": {},
     "output_type": "execute_result"
    }
   ],
   "source": [
    "cluster_2.groupby('Server Region')['Rules Violation','Spending Score'].value_counts()"
   ]
  },
  {
   "cell_type": "code",
   "execution_count": 49,
   "id": "8a420559-aa3b-449c-a21e-fd58a8f744de",
   "metadata": {},
   "outputs": [
    {
     "data": {
      "text/plain": [
       "Server Region   Spending Score\n",
       "South America   2                  1\n",
       "Southeast Asia  3                 29\n",
       "                2                 23\n",
       "Name: Spending Score, dtype: int64"
      ]
     },
     "execution_count": 49,
     "metadata": {},
     "output_type": "execute_result"
    }
   ],
   "source": [
    "cluster_2.groupby('Server Region')['Spending Score'].value_counts()"
   ]
  },
  {
   "cell_type": "code",
   "execution_count": 50,
   "id": "2e64d732-0198-45e4-911b-e690caa0d0f4",
   "metadata": {},
   "outputs": [
    {
     "data": {
      "text/plain": [
       "53"
      ]
     },
     "execution_count": 50,
     "metadata": {},
     "output_type": "execute_result"
    }
   ],
   "source": [
    "cluster_2['Rules Violation'].value_counts().sum()"
   ]
  },
  {
   "cell_type": "markdown",
   "id": "a174a7ed-eaa0-43fd-a94a-f41bf5c20009",
   "metadata": {},
   "source": [
    "<h2> Analisis Pada Cluster 3 </h2>"
   ]
  },
  {
   "cell_type": "code",
   "execution_count": 51,
   "id": "f24b985c-9ade-40c7-95e2-2c95d116251d",
   "metadata": {},
   "outputs": [],
   "source": [
    "if ([cluster_3[\"Server Region\"] == 0 | (cluster_3[\"Server Region\"] == 1) | (cluster_3[\"Server Region\"] == 2) | (cluster_3[\"Server Region\"] == 3) | (cluster_3[\"Server Region\"] == 4)]):\n",
    "       cluster_3[\"Server Region\"].replace(\n",
    "       to_replace=[0,1,2,3,4], \n",
    "        value=['Asia-Pasific','Europe','North America','South America','Southeast Asia'],\n",
    "       inplace=True)"
   ]
  },
  {
   "cell_type": "code",
   "execution_count": 52,
   "id": "cc2dfdcf-2aa5-4778-ad2c-76f290f8dedd",
   "metadata": {},
   "outputs": [],
   "source": [
    " cluster_3['Rules Violation'].replace(\n",
    "    to_replace=[0,1,2], \n",
    "    value=['Cheating On Bygone Phantasm','Illegal Resource Obtaintment','Illegal Resource Obtaintment & Cheating on Bygone Phantasm 90'],\n",
    "    inplace=True)"
   ]
  },
  {
   "cell_type": "code",
   "execution_count": 53,
   "id": "732ba45a-7052-449b-bba5-bb97e0912608",
   "metadata": {},
   "outputs": [
    {
     "data": {
      "text/html": [
       "<div>\n",
       "<style scoped>\n",
       "    .dataframe tbody tr th:only-of-type {\n",
       "        vertical-align: middle;\n",
       "    }\n",
       "\n",
       "    .dataframe tbody tr th {\n",
       "        vertical-align: top;\n",
       "    }\n",
       "\n",
       "    .dataframe thead th {\n",
       "        text-align: right;\n",
       "    }\n",
       "</style>\n",
       "<table border=\"1\" class=\"dataframe\">\n",
       "  <thead>\n",
       "    <tr style=\"text-align: right;\">\n",
       "      <th></th>\n",
       "      <th>Server Region</th>\n",
       "      <th>Rules Violation</th>\n",
       "      <th>Spending Score</th>\n",
       "    </tr>\n",
       "  </thead>\n",
       "  <tbody>\n",
       "    <tr>\n",
       "      <th>0</th>\n",
       "      <td>Asia-Pasific</td>\n",
       "      <td>Illegal Resource Obtaintment</td>\n",
       "      <td>3</td>\n",
       "    </tr>\n",
       "    <tr>\n",
       "      <th>1</th>\n",
       "      <td>Europe</td>\n",
       "      <td>Illegal Resource Obtaintment</td>\n",
       "      <td>3</td>\n",
       "    </tr>\n",
       "    <tr>\n",
       "      <th>2</th>\n",
       "      <td>North America</td>\n",
       "      <td>Illegal Resource Obtaintment</td>\n",
       "      <td>2</td>\n",
       "    </tr>\n",
       "    <tr>\n",
       "      <th>3</th>\n",
       "      <td>Europe</td>\n",
       "      <td>Illegal Resource Obtaintment</td>\n",
       "      <td>2</td>\n",
       "    </tr>\n",
       "    <tr>\n",
       "      <th>4</th>\n",
       "      <td>Europe</td>\n",
       "      <td>Illegal Resource Obtaintment</td>\n",
       "      <td>2</td>\n",
       "    </tr>\n",
       "    <tr>\n",
       "      <th>...</th>\n",
       "      <td>...</td>\n",
       "      <td>...</td>\n",
       "      <td>...</td>\n",
       "    </tr>\n",
       "    <tr>\n",
       "      <th>66</th>\n",
       "      <td>Europe</td>\n",
       "      <td>Illegal Resource Obtaintment</td>\n",
       "      <td>2</td>\n",
       "    </tr>\n",
       "    <tr>\n",
       "      <th>67</th>\n",
       "      <td>North America</td>\n",
       "      <td>Illegal Resource Obtaintment</td>\n",
       "      <td>2</td>\n",
       "    </tr>\n",
       "    <tr>\n",
       "      <th>68</th>\n",
       "      <td>Europe</td>\n",
       "      <td>Illegal Resource Obtaintment</td>\n",
       "      <td>2</td>\n",
       "    </tr>\n",
       "    <tr>\n",
       "      <th>69</th>\n",
       "      <td>Asia-Pasific</td>\n",
       "      <td>Illegal Resource Obtaintment</td>\n",
       "      <td>3</td>\n",
       "    </tr>\n",
       "    <tr>\n",
       "      <th>70</th>\n",
       "      <td>Europe</td>\n",
       "      <td>Illegal Resource Obtaintment</td>\n",
       "      <td>3</td>\n",
       "    </tr>\n",
       "  </tbody>\n",
       "</table>\n",
       "<p>71 rows × 3 columns</p>\n",
       "</div>"
      ],
      "text/plain": [
       "    Server Region               Rules Violation  Spending Score\n",
       "0    Asia-Pasific  Illegal Resource Obtaintment               3\n",
       "1          Europe  Illegal Resource Obtaintment               3\n",
       "2   North America  Illegal Resource Obtaintment               2\n",
       "3          Europe  Illegal Resource Obtaintment               2\n",
       "4          Europe  Illegal Resource Obtaintment               2\n",
       "..            ...                           ...             ...\n",
       "66         Europe  Illegal Resource Obtaintment               2\n",
       "67  North America  Illegal Resource Obtaintment               2\n",
       "68         Europe  Illegal Resource Obtaintment               2\n",
       "69   Asia-Pasific  Illegal Resource Obtaintment               3\n",
       "70         Europe  Illegal Resource Obtaintment               3\n",
       "\n",
       "[71 rows x 3 columns]"
      ]
     },
     "execution_count": 53,
     "metadata": {},
     "output_type": "execute_result"
    }
   ],
   "source": [
    "cluster_3"
   ]
  },
  {
   "cell_type": "markdown",
   "id": "2fe0e012-5655-402f-96d0-55abe204114f",
   "metadata": {},
   "source": [
    "<h2> Hasil dan Kesimpulan dari Cluster 3"
   ]
  },
  {
   "cell_type": "code",
   "execution_count": 54,
   "id": "80100cb6-99b2-462c-97cc-462de055ae3a",
   "metadata": {},
   "outputs": [
    {
     "name": "stdout",
     "output_type": "stream",
     "text": [
      "Jumlah Penggunaan Kecurangan dan Spending Score pada masing2 akun yang dibanned pada Cluster 3\n"
     ]
    },
    {
     "data": {
      "text/plain": [
       "Server Region  Rules Violation             \n",
       "Asia-Pasific   Illegal Resource Obtaintment    16\n",
       "               Cheating On Bygone Phantasm      2\n",
       "Europe         Illegal Resource Obtaintment    28\n",
       "               Cheating On Bygone Phantasm      3\n",
       "North America  Illegal Resource Obtaintment    22\n",
       "Name: Rules Violation, dtype: int64"
      ]
     },
     "execution_count": 54,
     "metadata": {},
     "output_type": "execute_result"
    }
   ],
   "source": [
    "print(\"Jumlah Penggunaan Kecurangan dan Spending Score pada masing2 akun yang dibanned pada Cluster 3\")\n",
    "cluster_3.groupby('Server Region')['Rules Violation'].value_counts()"
   ]
  },
  {
   "cell_type": "code",
   "execution_count": 74,
   "id": "ae66bc80-c125-4c7d-b58f-b0c12b6d6789",
   "metadata": {},
   "outputs": [
    {
     "data": {
      "text/plain": [
       "Server Region  Rules Violation               Spending Score\n",
       "Asia-Pasific   Illegal Resource Obtaintment  3                 10\n",
       "                                             2                  6\n",
       "               Cheating On Bygone Phantasm   2                  1\n",
       "                                             3                  1\n",
       "Europe         Illegal Resource Obtaintment  2                 14\n",
       "                                             3                 14\n",
       "               Cheating On Bygone Phantasm   2                  2\n",
       "                                             3                  1\n",
       "North America  Illegal Resource Obtaintment  2                 15\n",
       "                                             3                  7\n",
       "dtype: int64"
      ]
     },
     "execution_count": 74,
     "metadata": {},
     "output_type": "execute_result"
    }
   ],
   "source": [
    "cluster_3.groupby('Server Region')['Rules Violation','Spending Score'].value_counts()"
   ]
  },
  {
   "cell_type": "code",
   "execution_count": 55,
   "id": "ed56f152-201a-4eba-a343-d09e2dcd898b",
   "metadata": {},
   "outputs": [
    {
     "data": {
      "text/plain": [
       "Server Region  Spending Score\n",
       "Asia-Pasific   3                 11\n",
       "               2                  7\n",
       "Europe         2                 16\n",
       "               3                 15\n",
       "North America  2                 15\n",
       "               3                  7\n",
       "Name: Spending Score, dtype: int64"
      ]
     },
     "execution_count": 55,
     "metadata": {},
     "output_type": "execute_result"
    }
   ],
   "source": [
    "cluster_3.groupby('Server Region')['Spending Score'].value_counts()"
   ]
  },
  {
   "cell_type": "code",
   "execution_count": 56,
   "id": "b5e20706-e33e-48e8-9f9d-ca1a29801266",
   "metadata": {},
   "outputs": [
    {
     "data": {
      "text/plain": [
       "71"
      ]
     },
     "execution_count": 56,
     "metadata": {},
     "output_type": "execute_result"
    }
   ],
   "source": [
    "cluster_3['Rules Violation'].value_counts().sum()"
   ]
  },
  {
   "cell_type": "markdown",
   "id": "1349e7e6-51e2-44e7-a508-c12fad2cd4bb",
   "metadata": {
    "tags": []
   },
   "source": [
    "<h2> Analisis Pada Cluster 4 </h2>"
   ]
  },
  {
   "cell_type": "code",
   "execution_count": 57,
   "id": "a4e8e848-aab8-4637-9c1f-c4ef1e28b2ec",
   "metadata": {},
   "outputs": [],
   "source": [
    "if ([cluster_4[\"Server Region\"] == 0 | (cluster_4[\"Server Region\"] == 1) | (cluster_4[\"Server Region\"] == 2) | (cluster_4[\"Server Region\"] == 3) | (cluster_4[\"Server Region\"] == 4)]):\n",
    "       cluster_4[\"Server Region\"].replace(\n",
    "       to_replace=[0,1,2,3,4], \n",
    "        value=['Asia-Pasific','Europe','North America','South America','Southeast Asia'],\n",
    "       inplace=True)"
   ]
  },
  {
   "cell_type": "code",
   "execution_count": 58,
   "id": "6160bf2c-7a04-4654-8f13-89b6c3cd7a4b",
   "metadata": {},
   "outputs": [],
   "source": [
    " cluster_4['Rules Violation'].replace(\n",
    "    to_replace=[0,1,2], \n",
    "    value=['Cheating On Bygone Phantasm','Illegal Resource Obtaintment','Illegal Resource Obtaintment & Cheating on Bygone Phantasm 90'],\n",
    "    inplace=True)"
   ]
  },
  {
   "cell_type": "code",
   "execution_count": 59,
   "id": "7515bcf4-d6bd-4800-ae22-3c5d3aa152dc",
   "metadata": {},
   "outputs": [
    {
     "data": {
      "text/html": [
       "<div>\n",
       "<style scoped>\n",
       "    .dataframe tbody tr th:only-of-type {\n",
       "        vertical-align: middle;\n",
       "    }\n",
       "\n",
       "    .dataframe tbody tr th {\n",
       "        vertical-align: top;\n",
       "    }\n",
       "\n",
       "    .dataframe thead th {\n",
       "        text-align: right;\n",
       "    }\n",
       "</style>\n",
       "<table border=\"1\" class=\"dataframe\">\n",
       "  <thead>\n",
       "    <tr style=\"text-align: right;\">\n",
       "      <th></th>\n",
       "      <th>Server Region</th>\n",
       "      <th>Rules Violation</th>\n",
       "      <th>Spending Score</th>\n",
       "    </tr>\n",
       "  </thead>\n",
       "  <tbody>\n",
       "    <tr>\n",
       "      <th>0</th>\n",
       "      <td>Southeast Asia</td>\n",
       "      <td>Illegal Resource Obtaintment</td>\n",
       "      <td>1</td>\n",
       "    </tr>\n",
       "    <tr>\n",
       "      <th>1</th>\n",
       "      <td>South America</td>\n",
       "      <td>Cheating On Bygone Phantasm</td>\n",
       "      <td>1</td>\n",
       "    </tr>\n",
       "    <tr>\n",
       "      <th>2</th>\n",
       "      <td>Southeast Asia</td>\n",
       "      <td>Illegal Resource Obtaintment</td>\n",
       "      <td>1</td>\n",
       "    </tr>\n",
       "    <tr>\n",
       "      <th>3</th>\n",
       "      <td>Southeast Asia</td>\n",
       "      <td>Illegal Resource Obtaintment</td>\n",
       "      <td>1</td>\n",
       "    </tr>\n",
       "    <tr>\n",
       "      <th>4</th>\n",
       "      <td>Southeast Asia</td>\n",
       "      <td>Illegal Resource Obtaintment</td>\n",
       "      <td>1</td>\n",
       "    </tr>\n",
       "    <tr>\n",
       "      <th>5</th>\n",
       "      <td>Southeast Asia</td>\n",
       "      <td>Illegal Resource Obtaintment</td>\n",
       "      <td>0</td>\n",
       "    </tr>\n",
       "    <tr>\n",
       "      <th>6</th>\n",
       "      <td>Southeast Asia</td>\n",
       "      <td>Illegal Resource Obtaintment</td>\n",
       "      <td>1</td>\n",
       "    </tr>\n",
       "    <tr>\n",
       "      <th>7</th>\n",
       "      <td>Southeast Asia</td>\n",
       "      <td>Illegal Resource Obtaintment</td>\n",
       "      <td>0</td>\n",
       "    </tr>\n",
       "    <tr>\n",
       "      <th>8</th>\n",
       "      <td>Southeast Asia</td>\n",
       "      <td>Illegal Resource Obtaintment</td>\n",
       "      <td>1</td>\n",
       "    </tr>\n",
       "    <tr>\n",
       "      <th>9</th>\n",
       "      <td>Southeast Asia</td>\n",
       "      <td>Illegal Resource Obtaintment</td>\n",
       "      <td>1</td>\n",
       "    </tr>\n",
       "    <tr>\n",
       "      <th>10</th>\n",
       "      <td>Southeast Asia</td>\n",
       "      <td>Illegal Resource Obtaintment</td>\n",
       "      <td>0</td>\n",
       "    </tr>\n",
       "    <tr>\n",
       "      <th>11</th>\n",
       "      <td>Southeast Asia</td>\n",
       "      <td>Illegal Resource Obtaintment</td>\n",
       "      <td>1</td>\n",
       "    </tr>\n",
       "    <tr>\n",
       "      <th>12</th>\n",
       "      <td>Southeast Asia</td>\n",
       "      <td>Illegal Resource Obtaintment</td>\n",
       "      <td>1</td>\n",
       "    </tr>\n",
       "    <tr>\n",
       "      <th>13</th>\n",
       "      <td>Southeast Asia</td>\n",
       "      <td>Illegal Resource Obtaintment</td>\n",
       "      <td>0</td>\n",
       "    </tr>\n",
       "    <tr>\n",
       "      <th>14</th>\n",
       "      <td>Southeast Asia</td>\n",
       "      <td>Illegal Resource Obtaintment</td>\n",
       "      <td>0</td>\n",
       "    </tr>\n",
       "    <tr>\n",
       "      <th>15</th>\n",
       "      <td>Southeast Asia</td>\n",
       "      <td>Illegal Resource Obtaintment &amp; Cheating on Byg...</td>\n",
       "      <td>1</td>\n",
       "    </tr>\n",
       "    <tr>\n",
       "      <th>16</th>\n",
       "      <td>Southeast Asia</td>\n",
       "      <td>Illegal Resource Obtaintment</td>\n",
       "      <td>1</td>\n",
       "    </tr>\n",
       "    <tr>\n",
       "      <th>17</th>\n",
       "      <td>Southeast Asia</td>\n",
       "      <td>Illegal Resource Obtaintment</td>\n",
       "      <td>0</td>\n",
       "    </tr>\n",
       "    <tr>\n",
       "      <th>18</th>\n",
       "      <td>South America</td>\n",
       "      <td>Illegal Resource Obtaintment</td>\n",
       "      <td>0</td>\n",
       "    </tr>\n",
       "    <tr>\n",
       "      <th>19</th>\n",
       "      <td>Southeast Asia</td>\n",
       "      <td>Illegal Resource Obtaintment</td>\n",
       "      <td>1</td>\n",
       "    </tr>\n",
       "    <tr>\n",
       "      <th>20</th>\n",
       "      <td>South America</td>\n",
       "      <td>Illegal Resource Obtaintment</td>\n",
       "      <td>1</td>\n",
       "    </tr>\n",
       "    <tr>\n",
       "      <th>21</th>\n",
       "      <td>South America</td>\n",
       "      <td>Illegal Resource Obtaintment</td>\n",
       "      <td>0</td>\n",
       "    </tr>\n",
       "    <tr>\n",
       "      <th>22</th>\n",
       "      <td>Southeast Asia</td>\n",
       "      <td>Illegal Resource Obtaintment</td>\n",
       "      <td>1</td>\n",
       "    </tr>\n",
       "    <tr>\n",
       "      <th>23</th>\n",
       "      <td>South America</td>\n",
       "      <td>Illegal Resource Obtaintment</td>\n",
       "      <td>1</td>\n",
       "    </tr>\n",
       "    <tr>\n",
       "      <th>24</th>\n",
       "      <td>Southeast Asia</td>\n",
       "      <td>Illegal Resource Obtaintment</td>\n",
       "      <td>1</td>\n",
       "    </tr>\n",
       "    <tr>\n",
       "      <th>25</th>\n",
       "      <td>South America</td>\n",
       "      <td>Illegal Resource Obtaintment</td>\n",
       "      <td>0</td>\n",
       "    </tr>\n",
       "    <tr>\n",
       "      <th>26</th>\n",
       "      <td>Southeast Asia</td>\n",
       "      <td>Illegal Resource Obtaintment</td>\n",
       "      <td>0</td>\n",
       "    </tr>\n",
       "    <tr>\n",
       "      <th>27</th>\n",
       "      <td>Southeast Asia</td>\n",
       "      <td>Illegal Resource Obtaintment</td>\n",
       "      <td>0</td>\n",
       "    </tr>\n",
       "    <tr>\n",
       "      <th>28</th>\n",
       "      <td>Southeast Asia</td>\n",
       "      <td>Illegal Resource Obtaintment</td>\n",
       "      <td>0</td>\n",
       "    </tr>\n",
       "    <tr>\n",
       "      <th>29</th>\n",
       "      <td>Southeast Asia</td>\n",
       "      <td>Illegal Resource Obtaintment</td>\n",
       "      <td>0</td>\n",
       "    </tr>\n",
       "    <tr>\n",
       "      <th>30</th>\n",
       "      <td>Southeast Asia</td>\n",
       "      <td>Illegal Resource Obtaintment</td>\n",
       "      <td>1</td>\n",
       "    </tr>\n",
       "    <tr>\n",
       "      <th>31</th>\n",
       "      <td>Southeast Asia</td>\n",
       "      <td>Illegal Resource Obtaintment</td>\n",
       "      <td>0</td>\n",
       "    </tr>\n",
       "    <tr>\n",
       "      <th>32</th>\n",
       "      <td>South America</td>\n",
       "      <td>Illegal Resource Obtaintment</td>\n",
       "      <td>0</td>\n",
       "    </tr>\n",
       "    <tr>\n",
       "      <th>33</th>\n",
       "      <td>Southeast Asia</td>\n",
       "      <td>Illegal Resource Obtaintment</td>\n",
       "      <td>0</td>\n",
       "    </tr>\n",
       "    <tr>\n",
       "      <th>34</th>\n",
       "      <td>Southeast Asia</td>\n",
       "      <td>Illegal Resource Obtaintment</td>\n",
       "      <td>0</td>\n",
       "    </tr>\n",
       "    <tr>\n",
       "      <th>35</th>\n",
       "      <td>Southeast Asia</td>\n",
       "      <td>Illegal Resource Obtaintment</td>\n",
       "      <td>0</td>\n",
       "    </tr>\n",
       "    <tr>\n",
       "      <th>36</th>\n",
       "      <td>Southeast Asia</td>\n",
       "      <td>Illegal Resource Obtaintment</td>\n",
       "      <td>0</td>\n",
       "    </tr>\n",
       "    <tr>\n",
       "      <th>37</th>\n",
       "      <td>Southeast Asia</td>\n",
       "      <td>Illegal Resource Obtaintment</td>\n",
       "      <td>1</td>\n",
       "    </tr>\n",
       "    <tr>\n",
       "      <th>38</th>\n",
       "      <td>Southeast Asia</td>\n",
       "      <td>Illegal Resource Obtaintment</td>\n",
       "      <td>0</td>\n",
       "    </tr>\n",
       "    <tr>\n",
       "      <th>39</th>\n",
       "      <td>Southeast Asia</td>\n",
       "      <td>Cheating On Bygone Phantasm</td>\n",
       "      <td>0</td>\n",
       "    </tr>\n",
       "    <tr>\n",
       "      <th>40</th>\n",
       "      <td>Southeast Asia</td>\n",
       "      <td>Illegal Resource Obtaintment</td>\n",
       "      <td>1</td>\n",
       "    </tr>\n",
       "    <tr>\n",
       "      <th>41</th>\n",
       "      <td>Southeast Asia</td>\n",
       "      <td>Illegal Resource Obtaintment</td>\n",
       "      <td>0</td>\n",
       "    </tr>\n",
       "    <tr>\n",
       "      <th>42</th>\n",
       "      <td>Southeast Asia</td>\n",
       "      <td>Illegal Resource Obtaintment</td>\n",
       "      <td>1</td>\n",
       "    </tr>\n",
       "    <tr>\n",
       "      <th>43</th>\n",
       "      <td>Southeast Asia</td>\n",
       "      <td>Illegal Resource Obtaintment</td>\n",
       "      <td>1</td>\n",
       "    </tr>\n",
       "    <tr>\n",
       "      <th>44</th>\n",
       "      <td>Southeast Asia</td>\n",
       "      <td>Illegal Resource Obtaintment</td>\n",
       "      <td>1</td>\n",
       "    </tr>\n",
       "    <tr>\n",
       "      <th>45</th>\n",
       "      <td>Southeast Asia</td>\n",
       "      <td>Illegal Resource Obtaintment</td>\n",
       "      <td>1</td>\n",
       "    </tr>\n",
       "    <tr>\n",
       "      <th>46</th>\n",
       "      <td>Southeast Asia</td>\n",
       "      <td>Illegal Resource Obtaintment</td>\n",
       "      <td>0</td>\n",
       "    </tr>\n",
       "    <tr>\n",
       "      <th>47</th>\n",
       "      <td>Southeast Asia</td>\n",
       "      <td>Illegal Resource Obtaintment</td>\n",
       "      <td>0</td>\n",
       "    </tr>\n",
       "    <tr>\n",
       "      <th>48</th>\n",
       "      <td>Southeast Asia</td>\n",
       "      <td>Illegal Resource Obtaintment</td>\n",
       "      <td>0</td>\n",
       "    </tr>\n",
       "    <tr>\n",
       "      <th>49</th>\n",
       "      <td>Southeast Asia</td>\n",
       "      <td>Illegal Resource Obtaintment</td>\n",
       "      <td>0</td>\n",
       "    </tr>\n",
       "  </tbody>\n",
       "</table>\n",
       "</div>"
      ],
      "text/plain": [
       "     Server Region                                    Rules Violation  \\\n",
       "0   Southeast Asia                       Illegal Resource Obtaintment   \n",
       "1    South America                        Cheating On Bygone Phantasm   \n",
       "2   Southeast Asia                       Illegal Resource Obtaintment   \n",
       "3   Southeast Asia                       Illegal Resource Obtaintment   \n",
       "4   Southeast Asia                       Illegal Resource Obtaintment   \n",
       "5   Southeast Asia                       Illegal Resource Obtaintment   \n",
       "6   Southeast Asia                       Illegal Resource Obtaintment   \n",
       "7   Southeast Asia                       Illegal Resource Obtaintment   \n",
       "8   Southeast Asia                       Illegal Resource Obtaintment   \n",
       "9   Southeast Asia                       Illegal Resource Obtaintment   \n",
       "10  Southeast Asia                       Illegal Resource Obtaintment   \n",
       "11  Southeast Asia                       Illegal Resource Obtaintment   \n",
       "12  Southeast Asia                       Illegal Resource Obtaintment   \n",
       "13  Southeast Asia                       Illegal Resource Obtaintment   \n",
       "14  Southeast Asia                       Illegal Resource Obtaintment   \n",
       "15  Southeast Asia  Illegal Resource Obtaintment & Cheating on Byg...   \n",
       "16  Southeast Asia                       Illegal Resource Obtaintment   \n",
       "17  Southeast Asia                       Illegal Resource Obtaintment   \n",
       "18   South America                       Illegal Resource Obtaintment   \n",
       "19  Southeast Asia                       Illegal Resource Obtaintment   \n",
       "20   South America                       Illegal Resource Obtaintment   \n",
       "21   South America                       Illegal Resource Obtaintment   \n",
       "22  Southeast Asia                       Illegal Resource Obtaintment   \n",
       "23   South America                       Illegal Resource Obtaintment   \n",
       "24  Southeast Asia                       Illegal Resource Obtaintment   \n",
       "25   South America                       Illegal Resource Obtaintment   \n",
       "26  Southeast Asia                       Illegal Resource Obtaintment   \n",
       "27  Southeast Asia                       Illegal Resource Obtaintment   \n",
       "28  Southeast Asia                       Illegal Resource Obtaintment   \n",
       "29  Southeast Asia                       Illegal Resource Obtaintment   \n",
       "30  Southeast Asia                       Illegal Resource Obtaintment   \n",
       "31  Southeast Asia                       Illegal Resource Obtaintment   \n",
       "32   South America                       Illegal Resource Obtaintment   \n",
       "33  Southeast Asia                       Illegal Resource Obtaintment   \n",
       "34  Southeast Asia                       Illegal Resource Obtaintment   \n",
       "35  Southeast Asia                       Illegal Resource Obtaintment   \n",
       "36  Southeast Asia                       Illegal Resource Obtaintment   \n",
       "37  Southeast Asia                       Illegal Resource Obtaintment   \n",
       "38  Southeast Asia                       Illegal Resource Obtaintment   \n",
       "39  Southeast Asia                        Cheating On Bygone Phantasm   \n",
       "40  Southeast Asia                       Illegal Resource Obtaintment   \n",
       "41  Southeast Asia                       Illegal Resource Obtaintment   \n",
       "42  Southeast Asia                       Illegal Resource Obtaintment   \n",
       "43  Southeast Asia                       Illegal Resource Obtaintment   \n",
       "44  Southeast Asia                       Illegal Resource Obtaintment   \n",
       "45  Southeast Asia                       Illegal Resource Obtaintment   \n",
       "46  Southeast Asia                       Illegal Resource Obtaintment   \n",
       "47  Southeast Asia                       Illegal Resource Obtaintment   \n",
       "48  Southeast Asia                       Illegal Resource Obtaintment   \n",
       "49  Southeast Asia                       Illegal Resource Obtaintment   \n",
       "\n",
       "    Spending Score  \n",
       "0                1  \n",
       "1                1  \n",
       "2                1  \n",
       "3                1  \n",
       "4                1  \n",
       "5                0  \n",
       "6                1  \n",
       "7                0  \n",
       "8                1  \n",
       "9                1  \n",
       "10               0  \n",
       "11               1  \n",
       "12               1  \n",
       "13               0  \n",
       "14               0  \n",
       "15               1  \n",
       "16               1  \n",
       "17               0  \n",
       "18               0  \n",
       "19               1  \n",
       "20               1  \n",
       "21               0  \n",
       "22               1  \n",
       "23               1  \n",
       "24               1  \n",
       "25               0  \n",
       "26               0  \n",
       "27               0  \n",
       "28               0  \n",
       "29               0  \n",
       "30               1  \n",
       "31               0  \n",
       "32               0  \n",
       "33               0  \n",
       "34               0  \n",
       "35               0  \n",
       "36               0  \n",
       "37               1  \n",
       "38               0  \n",
       "39               0  \n",
       "40               1  \n",
       "41               0  \n",
       "42               1  \n",
       "43               1  \n",
       "44               1  \n",
       "45               1  \n",
       "46               0  \n",
       "47               0  \n",
       "48               0  \n",
       "49               0  "
      ]
     },
     "execution_count": 59,
     "metadata": {},
     "output_type": "execute_result"
    }
   ],
   "source": [
    "cluster_4"
   ]
  },
  {
   "cell_type": "markdown",
   "id": "563e746b-ba36-4a90-acb0-d0871ba285d9",
   "metadata": {},
   "source": [
    "<h2> Hasil dan Kesimpulan dari Cluster 4"
   ]
  },
  {
   "cell_type": "code",
   "execution_count": 60,
   "id": "8452f80d-d68f-4dd9-8ed8-d91d22e888ba",
   "metadata": {},
   "outputs": [
    {
     "name": "stdout",
     "output_type": "stream",
     "text": [
      "Jumlah Penggunaan Kecurangan dan Spending Score pada masing2 akun yang dibanned pada Cluster 4\n"
     ]
    },
    {
     "data": {
      "text/plain": [
       "Server Region   Rules Violation                                              \n",
       "South America   Illegal Resource Obtaintment                                      6\n",
       "                Cheating On Bygone Phantasm                                       1\n",
       "Southeast Asia  Illegal Resource Obtaintment                                     41\n",
       "                Cheating On Bygone Phantasm                                       1\n",
       "                Illegal Resource Obtaintment & Cheating on Bygone Phantasm 90     1\n",
       "Name: Rules Violation, dtype: int64"
      ]
     },
     "execution_count": 60,
     "metadata": {},
     "output_type": "execute_result"
    }
   ],
   "source": [
    "print(\"Jumlah Penggunaan Kecurangan dan Spending Score pada masing2 akun yang dibanned pada Cluster 4\")\n",
    "cluster_4.groupby('Server Region')['Rules Violation'].value_counts()"
   ]
  },
  {
   "cell_type": "code",
   "execution_count": 75,
   "id": "ab3390a7-244d-4e42-8741-97f1c62181bd",
   "metadata": {},
   "outputs": [
    {
     "data": {
      "text/plain": [
       "Server Region   Rules Violation                                                Spending Score\n",
       "South America   Illegal Resource Obtaintment                                   0                  4\n",
       "                                                                               1                  2\n",
       "                Cheating On Bygone Phantasm                                    1                  1\n",
       "Southeast Asia  Illegal Resource Obtaintment                                   0                 21\n",
       "                                                                               1                 20\n",
       "                Cheating On Bygone Phantasm                                    0                  1\n",
       "                Illegal Resource Obtaintment & Cheating on Bygone Phantasm 90  1                  1\n",
       "dtype: int64"
      ]
     },
     "execution_count": 75,
     "metadata": {},
     "output_type": "execute_result"
    }
   ],
   "source": [
    "cluster_4.groupby('Server Region')['Rules Violation','Spending Score'].value_counts()"
   ]
  },
  {
   "cell_type": "code",
   "execution_count": 61,
   "id": "08af5523-40cc-42b5-b518-2a0954abc5fc",
   "metadata": {},
   "outputs": [
    {
     "data": {
      "text/plain": [
       "Server Region   Spending Score\n",
       "South America   0                  4\n",
       "                1                  3\n",
       "Southeast Asia  0                 22\n",
       "                1                 21\n",
       "Name: Spending Score, dtype: int64"
      ]
     },
     "execution_count": 61,
     "metadata": {},
     "output_type": "execute_result"
    }
   ],
   "source": [
    "cluster_4.groupby('Server Region')['Spending Score'].value_counts()"
   ]
  },
  {
   "cell_type": "code",
   "execution_count": 62,
   "id": "a5bf9ffa-f2f5-4e9b-9b04-23f8e6a240e0",
   "metadata": {},
   "outputs": [
    {
     "data": {
      "text/plain": [
       "50"
      ]
     },
     "execution_count": 62,
     "metadata": {},
     "output_type": "execute_result"
    }
   ],
   "source": [
    "cluster_4['Rules Violation'].value_counts().sum()"
   ]
  },
  {
   "cell_type": "markdown",
   "id": "893f5100-efca-4430-9a0f-3a71bfaaa4ed",
   "metadata": {},
   "source": [
    "<h2>Analisis Cluster 5"
   ]
  },
  {
   "cell_type": "code",
   "execution_count": 63,
   "id": "8beefbf5-d106-47f7-a6c9-ae0fbea4397c",
   "metadata": {},
   "outputs": [],
   "source": [
    "# if ([cluster_5[\"Server Region\"] == 0 | (cluster_5[\"Server Region\"] == 1) | (cluster_5[\"Server Region\"] == 2) | (cluster_5[\"Server Region\"] == 3) | (cluster_5[\"Server Region\"] == 4)]):\n",
    "#        cluster_5[\"Server Region\"].replace(\n",
    "#        to_replace=[0,1,2,3,4], \n",
    "#         value=['Asia-Pasific','Europe','North America','South America','Southeast Asia'],\n",
    "#        inplace=True)"
   ]
  },
  {
   "cell_type": "code",
   "execution_count": 64,
   "id": "a87339d4-e50c-4bc8-9b61-42bbb0142f96",
   "metadata": {},
   "outputs": [],
   "source": [
    " # cluster_5['Rules Violation'].replace(\n",
    " #    to_replace=[0,1,2], \n",
    " #    value=['Cheating On Bygone Phantasm','Illegal Resource Obtaintment','Illegal Resource Obtaintment & Cheating on Bygone Phantasm 90'],\n",
    " #    inplace=True)"
   ]
  },
  {
   "cell_type": "code",
   "execution_count": 65,
   "id": "381ece8c-5528-40fe-b666-91ff8e0aee71",
   "metadata": {},
   "outputs": [],
   "source": [
    "# cluster_5"
   ]
  },
  {
   "cell_type": "markdown",
   "id": "22e60760-f603-4fc0-9f76-10446523c3cd",
   "metadata": {},
   "source": [
    "<h2> Hasil dan Kesimpulan dari Cluster 5"
   ]
  },
  {
   "cell_type": "code",
   "execution_count": 66,
   "id": "ad4e8bdf-19cf-439a-ae81-6197f00afdb6",
   "metadata": {},
   "outputs": [],
   "source": [
    "# print(\"Jumlah Penggunaan Kecurangan dan Spending Score pada masing2 akun yang dibanned pada Cluster 5\")\n",
    "# cluster_5.groupby('Server Region')['Rules Violation'].value_counts()"
   ]
  },
  {
   "cell_type": "code",
   "execution_count": 67,
   "id": "e5a29fe0-6082-4977-8cee-cc35f3fbe710",
   "metadata": {},
   "outputs": [],
   "source": [
    "# print('Hasil Untuk Region Server Serta Jenis Pelanggaran Pada Cluster 5 :')\n",
    "# cluster_5.groupby('Server Region')['Spending Score'].value_counts()"
   ]
  },
  {
   "cell_type": "code",
   "execution_count": 68,
   "id": "5b10c7f1-06f9-4999-8b96-15f1eedb66c7",
   "metadata": {},
   "outputs": [],
   "source": [
    "# cluster_5['Rules Violation'].value_counts().sum()"
   ]
  },
  {
   "cell_type": "code",
   "execution_count": 69,
   "id": "7a2aa595-ed9e-4d74-99b6-6b9d096e1e23",
   "metadata": {},
   "outputs": [
    {
     "data": {
      "text/plain": [
       "134.66736194228494"
      ]
     },
     "execution_count": 69,
     "metadata": {},
     "output_type": "execute_result"
    }
   ],
   "source": [
    "km.inertia_"
   ]
  },
  {
   "cell_type": "code",
   "execution_count": 70,
   "id": "268e380c-5935-4a8e-b31d-0a6563f25c05",
   "metadata": {},
   "outputs": [],
   "source": [
    "# import pickle\n",
    "# pickle.dump(km, open(\"model.pkl\", \"wb\"))"
   ]
  },
  {
   "cell_type": "code",
   "execution_count": null,
   "id": "e8b33b3f-f6c0-40ab-b476-76b96d65c3ab",
   "metadata": {},
   "outputs": [],
   "source": []
  }
 ],
 "metadata": {
  "kernelspec": {
   "display_name": "Python 3 (ipykernel)",
   "language": "python",
   "name": "python3"
  },
  "language_info": {
   "codemirror_mode": {
    "name": "ipython",
    "version": 3
   },
   "file_extension": ".py",
   "mimetype": "text/x-python",
   "name": "python",
   "nbconvert_exporter": "python",
   "pygments_lexer": "ipython3",
   "version": "3.8.13"
  }
 },
 "nbformat": 4,
 "nbformat_minor": 5
}
